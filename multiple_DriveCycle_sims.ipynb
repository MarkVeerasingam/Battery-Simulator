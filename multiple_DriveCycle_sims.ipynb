{
 "cells": [
  {
   "cell_type": "code",
   "execution_count": 1,
   "metadata": {},
   "outputs": [
    {
     "name": "stderr",
     "output_type": "stream",
     "text": [
      "2024-07-07 15:24:04.765 - [INFO] base_model._build_model(652): Start building Single Particle Model with electrolyte\n",
      "2024-07-07 15:24:04.915 - [INFO] base_battery_model.build_model(1073): Finish building Single Particle Model with electrolyte\n",
      "2024-07-07 15:24:04.940 - [INFO] callbacks.on_experiment_start(164): Start running experiment\n",
      "2024-07-07 15:24:04.942 - [INFO] parameter_values.process_model(394): Start setting parameters for Single Particle Model with electrolyte\n",
      "2024-07-07 15:24:05.156 - [INFO] parameter_values.process_model(463): Finish setting parameters for Single Particle Model with electrolyte\n",
      "2024-07-07 15:24:05.160 - [INFO] discretisation.process_model(145): Start discretising Single Particle Model with electrolyte\n",
      "2024-07-07 15:24:05.185 - [INFO] discretisation.remove_independent_variables_from_rhs(1126): removing variable Discharge capacity [A.h] from rhs\n",
      "2024-07-07 15:24:05.188 - [INFO] discretisation.remove_independent_variables_from_rhs(1126): removing variable Throughput capacity [A.h] from rhs\n",
      "2024-07-07 15:24:05.770 - [INFO] discretisation.process_model(247): Finish discretising Single Particle Model with electrolyte\n",
      "2024-07-07 15:24:05.772 - [NOTICE] logger.func(15): Cycle 1/1 (111.600 us elapsed) --------------------\n",
      "2024-07-07 15:24:05.773 - [NOTICE] logger.func(15): Cycle 1/1, step 1/1: _Step(current, [[0.0000e+00 1.2859e-02]\n",
      " [1.0000e+00 1.2859e-02]\n",
      " [2.0000e+00 1.2859e-02]\n",
      " ...\n",
      " [5.9800e+02 1.2859e-02]\n",
      " [5.9900e+02 1.2859e-02]\n",
      " [6.0000e+02 1.2859e-02]])\n",
      "2024-07-07 15:24:05.783 - [INFO] base_solver.set_up(117): Start solver set-up\n",
      "2024-07-07 15:24:06.116 - [INFO] base_solver.set_up(286): Finish solver set-up\n",
      "2024-07-07 15:24:13.227 - [INFO] parameter_values.process_model(394): Start setting parameters for ElectrodeSOH model\n",
      "2024-07-07 15:24:13.241 - [INFO] parameter_values.process_model(463): Finish setting parameters for ElectrodeSOH model\n",
      "2024-07-07 15:24:13.242 - [INFO] discretisation.process_model(145): Start discretising ElectrodeSOH model\n",
      "2024-07-07 15:24:13.262 - [INFO] discretisation.process_model(247): Finish discretising ElectrodeSOH model\n",
      "2024-07-07 15:24:13.263 - [INFO] base_solver.solve(740): Start solving ElectrodeSOH model with Algebraic solver (lm)\n",
      "2024-07-07 15:24:13.264 - [INFO] base_solver.set_up(117): Start solver set-up\n",
      "2024-07-07 15:24:13.297 - [INFO] base_solver.set_up(286): Finish solver set-up\n",
      "2024-07-07 15:24:13.315 - [INFO] base_solver.solve(973): Finish solving ElectrodeSOH model (the solver successfully reached the end of the integration interval)\n",
      "2024-07-07 15:24:13.316 - [INFO] base_solver.solve(974): Set-up time: 33.680 ms, Solve time: 16.742 ms (of which integration time: 15.947 ms), Total time: 50.422 ms\n",
      "2024-07-07 15:24:13.380 - [NOTICE] logger.func(15): Finish experiment simulation, took 7.609 s\n",
      "2024-07-07 15:24:13.382 - [INFO] callbacks.on_experiment_start(164): Start running experiment\n",
      "2024-07-07 15:24:13.383 - [WARNING] simulation.solve(590): Ignoring t_eval as solution times are specified by the experiment\n",
      "2024-07-07 15:24:13.384 - [NOTICE] logger.func(15): Cycle 1/1 (27.000 us elapsed) --------------------\n",
      "2024-07-07 15:24:13.385 - [NOTICE] logger.func(15): Cycle 1/1, step 1/1: _Step(current, [[0.0000e+00 1.2859e-02]\n",
      " [1.0000e+00 1.2859e-02]\n",
      " [2.0000e+00 1.2859e-02]\n",
      " ...\n",
      " [5.9800e+02 1.2859e-02]\n",
      " [5.9900e+02 1.2859e-02]\n",
      " [6.0000e+02 1.2859e-02]])\n",
      "2024-07-07 15:24:13.386 - [INFO] base_solver.set_up(115): Start solver set-up, initial_conditions only\n",
      "2024-07-07 15:24:13.389 - [INFO] base_solver.set_up(177): Finish solver set-up\n",
      "2024-07-07 15:24:19.527 - [INFO] base_solver.solve(740): Start solving ElectrodeSOH model with Algebraic solver (lm)\n",
      "2024-07-07 15:24:19.530 - [INFO] base_solver.solve(973): Finish solving ElectrodeSOH model (the solver successfully reached the end of the integration interval)\n",
      "2024-07-07 15:24:19.535 - [INFO] base_solver.solve(974): Set-up time: 40.100 us, Solve time: 1.144 ms (of which integration time: 641.000 us), Total time: 1.184 ms\n",
      "2024-07-07 15:24:19.591 - [NOTICE] logger.func(15): Finish experiment simulation, took 6.205 s\n"
     ]
    },
    {
     "data": {
      "application/vnd.jupyter.widget-view+json": {
       "model_id": "0d8fa7e2525f4a5c80e46949ce2c77e5",
       "version_major": 2,
       "version_minor": 0
      },
      "text/plain": [
       "interactive(children=(FloatSlider(value=0.0, description='t', max=600.0, step=6.0), Output()), _dom_classes=('…"
      ]
     },
     "metadata": {},
     "output_type": "display_data"
    },
    {
     "data": {
      "text/plain": [
       "<pybamm.plotting.quick_plot.QuickPlot at 0x1ea9ccc30d0>"
      ]
     },
     "execution_count": 1,
     "metadata": {},
     "output_type": "execute_result"
    }
   ],
   "source": [
    "import pybamm\n",
    "import pandas as pd\n",
    "import os\n",
    "import numpy as np\n",
    "\n",
    "os.chdir(pybamm.__path__[0])\n",
    "\n",
    "pybamm.set_logging_level(\"INFO\")\n",
    "\n",
    "# load model and update parameters so the input current is the US06 drive cycle\n",
    "model = pybamm.lithium_ion.SPMe({\"thermal\": \"lumped\"})\n",
    "param = model.default_parameter_values\n",
    "\n",
    "# import drive cycle from file\n",
    "drive_cycle = pd.read_csv(\n",
    "\"input/drive_cycles/US06.csv\", comment=\"#\", header=None\n",
    ").to_numpy()\n",
    "\n",
    "drive_step = pybamm.step.current(value=drive_cycle)\n",
    "experiment = pybamm.Experiment(operating_conditions=[drive_step])\n",
    "\n",
    "# create and run simulation using the CasadiSolver in \"fast\" mode, remembering to\n",
    "# pass in the updated parameters\n",
    "sim = pybamm.Simulation(\n",
    "model, parameter_values=param, experiment=experiment, solver=pybamm.CasadiSolver(mode=\"fast\")\n",
    ")\n",
    "\n",
    "# we need to specify the solve time to be different from the default [0, 600]\n",
    "# this will raise a warning but this can be ignored\n",
    "sim.solve()\n",
    "\n",
    "# use this instead to get rid of the warning\n",
    "t_drive = drive_cycle[:, 0]\n",
    "step_size = np.min(np.diff(t_drive))\n",
    "t_eval = np.arange(0, 1800, step_size)\n",
    "sim.solve(t_eval)\n",
    "# you can play with step_size to change the level of resolution of the drive cycle\n",
    "sim.plot(\n",
    "[\n",
    "\"Negative particle surface concentration [mol.m-3]\",\n",
    "\"Electrolyte concentration [mol.m-3]\",\n",
    "\"Positive particle surface concentration [mol.m-3]\",\n",
    "\"Current [A]\",\n",
    "\"Negative electrode potential [V]\",\n",
    "\"Electrolyte potential [V]\",\n",
    "\"Positive electrode potential [V]\",\n",
    "\"Terminal voltage [V]\",\n",
    "\"X-averaged cell temperature [K]\",\n",
    "]\n",
    ")"
   ]
  },
  {
   "cell_type": "code",
   "execution_count": null,
   "metadata": {},
   "outputs": [],
   "source": []
  }
 ],
 "metadata": {
  "kernelspec": {
   "display_name": "Python 3",
   "language": "python",
   "name": "python3"
  },
  "language_info": {
   "codemirror_mode": {
    "name": "ipython",
    "version": 3
   },
   "file_extension": ".py",
   "mimetype": "text/x-python",
   "name": "python",
   "nbconvert_exporter": "python",
   "pygments_lexer": "ipython3",
   "version": "3.11.1"
  }
 },
 "nbformat": 4,
 "nbformat_minor": 2
}
