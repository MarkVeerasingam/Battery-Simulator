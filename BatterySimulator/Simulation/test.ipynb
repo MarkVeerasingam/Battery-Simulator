{
 "cells": [
  {
   "cell_type": "code",
   "execution_count": 19,
   "metadata": {},
   "outputs": [
    {
     "data": {
      "text/plain": [
       "{'Ambient temperature [K]': 298.15,\n",
       " 'Boltzmann constant [J.K-1]': 1.380649e-23,\n",
       " 'Cation transference number': 0.259,\n",
       " 'Cell cooling surface area [m2]': 0.00431,\n",
       " 'Cell volume [m3]': 1.7e-05,\n",
       " 'Current function [A]': 2.0,\n",
       " 'Density [kg.m-3]': 1940.0,\n",
       " 'Electrode area [m2]': 0.08959998,\n",
       " 'Electrode height [m]': 0.2993325575342582,\n",
       " 'Electrode width [m]': 0.2993325575342582,\n",
       " 'Electrolyte conductivity [S.m-1]': <function _bpx_to_param_dict.<locals>._conductivity at 0x0000020555D31300>,\n",
       " 'Electrolyte conductivity activation energy [J.mol-1]': 17100.0,\n",
       " 'Electrolyte diffusivity [m2.s-1]': <function _bpx_to_param_dict.<locals>._electrolyte_diffusivity at 0x0000020555D33380>,\n",
       " 'Electrolyte diffusivity activation energy [J.mol-1]': 17100.0,\n",
       " 'Electron charge [C]': 1.602176634e-19,\n",
       " 'External surface area [m2]': 0.00431,\n",
       " 'Faraday constant [C.mol-1]': 96485.33212,\n",
       " 'Ideal gas constant [J.K-1.mol-1]': 8.314462618,\n",
       " 'Initial concentration in electrolyte [mol.m-3]': 1000.0,\n",
       " 'Initial concentration in negative electrode [mol.m-3]': 25829.012,\n",
       " 'Initial concentration in positive electrode [mol.m-3]': 1855.0000000000005,\n",
       " 'Initial temperature [K]': 298.15,\n",
       " 'Lower voltage cut-off [V]': 2.0,\n",
       " 'Maximum concentration in negative electrode [mol.m-3]': 31400.0,\n",
       " 'Maximum concentration in positive electrode [mol.m-3]': 21200.0,\n",
       " 'Negative current collector conductivity [S.m-1]': 40000000.0,\n",
       " 'Negative current collector density [kg.m-3]': 1940.0,\n",
       " 'Negative current collector specific heat capacity [J.kg-1.K-1]': 999.0,\n",
       " 'Negative current collector thermal conductivity [W.m-1.K-1]': 1.89,\n",
       " 'Negative current collector thickness [m]': 0,\n",
       " 'Negative electrode Bruggeman coefficient (electrode)': 0,\n",
       " 'Negative electrode Bruggeman coefficient (electrolyte)': 1.5,\n",
       " 'Negative electrode OCP [V]': <function reconstructed_function at 0x0000020555D30680>,\n",
       " 'Negative electrode OCP entropic change [V.K-1]': <function _bpx_to_param_dict.<locals>._negative_electrode_entropic_change at 0x0000020555D165C0>,\n",
       " 'Negative electrode active material volume fraction': 0.7568064,\n",
       " 'Negative electrode conductivity [S.m-1]': 7.46,\n",
       " 'Negative electrode density [kg.m-3]': 1940.0,\n",
       " 'Negative electrode diffusivity [m2.s-1]': <function _bpx_to_param_dict.<locals>._negative_electrode_diffusivity at 0x0000020555D33F60>,\n",
       " 'Negative electrode diffusivity activation energy [J.mol-1]': 30000.0,\n",
       " 'Negative electrode entropic change coefficient [V.K-1]': <function reconstructed_function at 0x0000020555D33420>,\n",
       " 'Negative electrode exchange-current density [A.m-2]': <function _bpx_to_param_dict.<locals>._negative_electrode_exchange_current_density at 0x0000020555D314E0>,\n",
       " 'Negative electrode maximum stoichiometry': 0.82258,\n",
       " 'Negative electrode minimum stoichiometry': 0.0016261,\n",
       " 'Negative electrode porosity': 0.20666385344187663,\n",
       " 'Negative electrode reaction rate constant [mol.m-2.s-1]': 6.872e-06,\n",
       " 'Negative electrode reaction rate constant activation energy [J.mol-1]': 55000.0,\n",
       " 'Negative electrode specific heat capacity [J.kg-1.K-1]': 999.0,\n",
       " 'Negative electrode surface area per unit volume [m-1]': 473004.0,\n",
       " 'Negative electrode thermal conductivity [W.m-1.K-1]': 1.89,\n",
       " 'Negative electrode thickness [m]': 4.44e-05,\n",
       " 'Negative electrode transport efficiency': 0.09395,\n",
       " 'Negative particle radius [m]': 4.8e-06,\n",
       " 'Nominal cell capacity [A.h]': 2.0,\n",
       " 'Number of cells connected in series to make a battery': 1,\n",
       " 'Number of electrode pairs connected in parallel to make a cell': 1,\n",
       " 'Number of electrodes connected in parallel to make a cell': 1,\n",
       " 'Open-circuit voltage at 0% SOC [V]': 2.0,\n",
       " 'Open-circuit voltage at 100% SOC [V]': 3.65,\n",
       " 'Porosity': 0.47,\n",
       " 'Positive current collector conductivity [S.m-1]': 40000000.0,\n",
       " 'Positive current collector density [kg.m-3]': 1940.0,\n",
       " 'Positive current collector specific heat capacity [J.kg-1.K-1]': 999.0,\n",
       " 'Positive current collector thermal conductivity [W.m-1.K-1]': 1.89,\n",
       " 'Positive current collector thickness [m]': 0,\n",
       " 'Positive electrode Bruggeman coefficient (electrode)': 0,\n",
       " 'Positive electrode Bruggeman coefficient (electrolyte)': 1.5,\n",
       " 'Positive electrode OCP [V]': <function reconstructed_function at 0x0000020555D307C0>,\n",
       " 'Positive electrode OCP entropic change [V.K-1]': <function _bpx_to_param_dict.<locals>._positive_electrode_entropic_change at 0x0000020555D31580>,\n",
       " 'Positive electrode active material volume fraction': 0.7364099999999999,\n",
       " 'Positive electrode conductivity [S.m-1]': 0.8,\n",
       " 'Positive electrode density [kg.m-3]': 1940.0,\n",
       " 'Positive electrode diffusivity [m2.s-1]': <function _bpx_to_param_dict.<locals>._positive_electrode_diffusivity at 0x0000020555D30540>,\n",
       " 'Positive electrode diffusivity activation energy [J.mol-1]': 80000.0,\n",
       " 'Positive electrode entropic change coefficient [V.K-1]': ('dudt',\n",
       "                                                            (array([0.  , 0.05, 0.1 , 0.15, 0.2 , 0.25, 0.3 , 0.35, 0.4 , 0.45, 0.5 ,\n",
       "       0.55, 0.6 , 0.65, 0.7 , 0.75, 0.8 , 0.85, 0.9 , 0.95, 1.  ]),\n",
       "                                                             array([ 1.0000e-04,  4.7145e-05,  3.7666e-05,  2.0299e-05,  5.9833e-06,\n",
       "       -4.6859e-06, -1.3966e-05, -2.3528e-05, -3.3593e-05, -4.3433e-05,\n",
       "       -5.2311e-05, -6.0211e-05, -6.8006e-05, -7.6939e-05, -8.7641e-05,\n",
       "       -9.9130e-05, -1.0855e-04, -1.1266e-04, -1.1238e-04, -1.0921e-04,\n",
       "       -2.2539e-04]))),\n",
       " 'Positive electrode exchange-current density [A.m-2]': <function _bpx_to_param_dict.<locals>._positive_electrode_exchange_current_density at 0x0000020555D30860>,\n",
       " 'Positive electrode maximum stoichiometry': 0.95038,\n",
       " 'Positive electrode minimum stoichiometry': 0.0875,\n",
       " 'Positive electrode porosity': 0.20358743031054446,\n",
       " 'Positive electrode reaction rate constant [mol.m-2.s-1]': 9.736e-07,\n",
       " 'Positive electrode reaction rate constant activation energy [J.mol-1]': 35000.0,\n",
       " 'Positive electrode specific heat capacity [J.kg-1.K-1]': 999.0,\n",
       " 'Positive electrode surface area per unit volume [m-1]': 4418460.0,\n",
       " 'Positive electrode thermal conductivity [W.m-1.K-1]': 1.89,\n",
       " 'Positive electrode thickness [m]': 6.43e-05,\n",
       " 'Positive electrode transport efficiency': 0.09186,\n",
       " 'Positive particle radius [m]': 5e-07,\n",
       " 'Reference temperature [K]': 298.15,\n",
       " 'Separator Bruggeman coefficient (electrolyte)': 1.5,\n",
       " 'Separator density [kg.m-3]': 1940.0,\n",
       " 'Separator porosity': 0.4699846682791107,\n",
       " 'Separator specific heat capacity [J.kg-1.K-1]': 999.0,\n",
       " 'Separator thermal conductivity [W.m-1.K-1]': 1.89,\n",
       " 'Separator thickness [m]': 2e-05,\n",
       " 'Separator transport efficiency': 0.3222,\n",
       " 'Specific heat capacity [J.K-1.kg-1]': 999.0,\n",
       " 'Thermal conductivity [W.m-1.K-1]': 1.89,\n",
       " 'Thermodynamic factor': 1.0,\n",
       " 'Thickness [m]': 2e-05,\n",
       " 'Total heat transfer coefficient [W.m-2.K-1]': 0,\n",
       " 'Transport efficiency': 0.3222,\n",
       " 'Upper voltage cut-off [V]': 3.65,\n",
       " 'Volume [m3]': 1.7e-05,\n",
       " 'check_already_exists': False}"
      ]
     },
     "execution_count": 19,
     "metadata": {},
     "output_type": "execute_result"
    }
   ],
   "source": [
    "import pybamm\n",
    "\n",
    "parameter_values = pybamm.ParameterValues.create_from_bpx(r\"C:\\Users\\markv\\Documents\\Repos\\2024\\BatterySimulator_v2\\BatterySimulator_SimulationBackend\\Li-Ion-Battery-Simulator\\BatterySimulator\\Simulation\\LFP\\lfp_18650_cell_BPX.json\")\n",
    "parameter_values"
   ]
  },
  {
   "cell_type": "code",
   "execution_count": 21,
   "metadata": {},
   "outputs": [
    {
     "name": "stdout",
     "output_type": "stream",
     "text": [
      "Lower voltage cut-off [V]\t2.0\n",
      "Open-circuit voltage at 0% SOC [V]\t2.0\n",
      "Open-circuit voltage at 100% SOC [V]\t3.65\n",
      "Upper voltage cut-off [V]\t3.65\n"
     ]
    }
   ],
   "source": [
    "# could implement a way to search what parameter you want to edit.\n",
    "parameter_values.search(\"voltage\")\n"
   ]
  },
  {
   "cell_type": "code",
   "execution_count": 37,
   "metadata": {},
   "outputs": [],
   "source": [
    "# adjusting\n",
    "parameter_values[\"Current function [A]\"] = 10\n",
    "parameter_values[\"Open-circuit voltage at 100% SOC [V]\"] = 4.2"
   ]
  },
  {
   "cell_type": "code",
   "execution_count": 38,
   "metadata": {},
   "outputs": [],
   "source": [
    "# Create a DFN model\n",
    "model = pybamm.lithium_ion.DFN()"
   ]
  },
  {
   "cell_type": "code",
   "execution_count": 39,
   "metadata": {},
   "outputs": [],
   "source": [
    "# solver\n",
    "solver = pybamm.CasadiSolver(\"safe\", atol=1e-6, rtol=1e-6)\n",
    "\n",
    "# Prevent solver failure if interpolant bounds are exceeded by a negligible amount\n",
    "solver._on_extrapolation = \"warn\""
   ]
  },
  {
   "cell_type": "code",
   "execution_count": 40,
   "metadata": {},
   "outputs": [],
   "source": [
    "# Define an experiment\n",
    "experiment = pybamm.Experiment(\n",
    "    [\n",
    "        (\n",
    "            \"Discharge at C/5 for 10 hours or until 2.5 V\",\n",
    "            \"Rest for 1 hour\",\n",
    "            \"Charge at 1 A until 3.5 V\",\n",
    "            \"Hold at 3.5 V until 10 mA\",\n",
    "            \"Rest for 1 hour\",\n",
    "        ),\n",
    "    ]\n",
    "    * 2\n",
    ")"
   ]
  },
  {
   "cell_type": "code",
   "execution_count": 41,
   "metadata": {},
   "outputs": [],
   "source": [
    "# Create a simulation object\n",
    "sim = pybamm.Simulation(model, parameter_values=parameter_values, solver=solver, experiment=experiment)"
   ]
  },
  {
   "cell_type": "code",
   "execution_count": 42,
   "metadata": {},
   "outputs": [
    {
     "name": "stderr",
     "output_type": "stream",
     "text": [
      "At t = 238.258 and h = 5.10856e-13, the corrector convergence failed repeatedly or with |h| = hmin.\n",
      "At t = 238.258 and h = 1.11737e-18, the corrector convergence failed repeatedly or with |h| = hmin.\n",
      "At t = 118.258 and h = 7.54588e-18, the corrector convergence failed repeatedly or with |h| = hmin.\n",
      "At t = 233.714 and h = 2.1527e-07, the corrector convergence failed repeatedly or with |h| = hmin.\n",
      "At t = 236.506 and h = 1.21426e-09, the corrector convergence failed repeatedly or with |h| = hmin.\n",
      "At t = 135.305 and h = 1.82393e-13, the corrector convergence failed repeatedly or with |h| = hmin.\n",
      "At t = 135.305 and h = 1.0935e-13, the corrector convergence failed repeatedly or with |h| = hmin.\n",
      "At t = 257.867 and h = 3.58477e-09, the corrector convergence failed repeatedly or with |h| = hmin.\n"
     ]
    },
    {
     "data": {
      "text/plain": [
       "<pybamm.solvers.solution.Solution at 0x2055570ced0>"
      ]
     },
     "execution_count": 42,
     "metadata": {},
     "output_type": "execute_result"
    }
   ],
   "source": [
    "# Simulate\n",
    "sim.solve()"
   ]
  },
  {
   "cell_type": "code",
   "execution_count": 43,
   "metadata": {},
   "outputs": [
    {
     "data": {
      "application/vnd.jupyter.widget-view+json": {
       "model_id": "74c4e74b604b446d809aeeb6bbafb9bf",
       "version_major": 2,
       "version_minor": 0
      },
      "text/plain": [
       "interactive(children=(FloatSlider(value=0.0, description='t', max=19.093923303580432, step=0.19093923303580432…"
      ]
     },
     "metadata": {},
     "output_type": "display_data"
    },
    {
     "data": {
      "text/plain": [
       "<pybamm.plotting.quick_plot.QuickPlot at 0x20568da4750>"
      ]
     },
     "execution_count": 43,
     "metadata": {},
     "output_type": "execute_result"
    }
   ],
   "source": [
    "# Plot results\n",
    "sim.plot()"
   ]
  },
  {
   "cell_type": "code",
   "execution_count": 49,
   "metadata": {},
   "outputs": [],
   "source": [
    "parameter_values = pybamm.ParameterValues.create_from_bpx(r\"C:\\Users\\markv\\Documents\\Repos\\2024\\BatterySimulator_v2\\BatterySimulator_SimulationBackend\\Li-Ion-Battery-Simulator\\BatterySimulator\\Simulation\\LFP\\lfp_18650_cell_BPX.json\")\n",
    "\n",
    "NMC=(r\"C:\\Users\\markv\\Documents\\Repos\\2024\\BatterySimulator_v2\\BatterySimulator_SimulationBackend\\Li-Ion-Battery-Simulator\\BatterySimulator\\Simulation\\NMC\\AE_gen1_BPX.json\")\n",
    "LFP=(r\"C:\\Users\\markv\\Documents\\Repos\\2024\\BatterySimulator_v2\\BatterySimulator_SimulationBackend\\Li-Ion-Battery-Simulator\\BatterySimulator\\Simulation\\LFP\\lfp_18650_cell_BPX.json\")"
   ]
  },
  {
   "cell_type": "markdown",
   "metadata": {},
   "source": [
    "# OOP SUCKS"
   ]
  },
  {
   "cell_type": "code",
   "execution_count": 77,
   "metadata": {},
   "outputs": [
    {
     "data": {
      "application/vnd.jupyter.widget-view+json": {
       "model_id": "1b30ed9137bf432895c8ecc4eefb3d90",
       "version_major": 2,
       "version_minor": 0
      },
      "text/plain": [
       "interactive(children=(FloatSlider(value=0.0, description='t', max=3555.448289013619, step=35.55448289013619), …"
      ]
     },
     "metadata": {},
     "output_type": "display_data"
    }
   ],
   "source": [
    "import pybamm\n",
    "\n",
    "class SetupSimulation:\n",
    "    def __init__(self, chemistry, electrochemical_model, solver) -> None:\n",
    "        self.chemistry = chemistry\n",
    "        self.adjusted_parameters = {} # Placeholder dictionary for user-adjusted parameters.\n",
    "        self.electrochemical_model = electrochemical_model # electrochemistry-based lithium-ion battery model \n",
    "        self.solver = solver \n",
    "        # could put cell_type to help filter dupe chemistries?\n",
    "\n",
    "    ADJUSTABLE_PARAMETERS = [\n",
    "            \"Ambient temperature [K]\",\n",
    "            \"Initial temperature [K]\",\n",
    "            \"Lower voltage cut-off [V]\",\n",
    "            \"Upper voltage cut-off [V]\",\n",
    "            \"Current function [A]\",\n",
    "        ]\n",
    "    \n",
    "    # This would be something like localhost:8080/chemistry=LFP/\n",
    "    def set_battery_chemistry(self, chemistry):\n",
    "        if chemistry == \"LFP\":\n",
    "            # parameter_values = pybamm.ParameterValues.create_from_bpx(LFP)\n",
    "            parameter_values = pybamm.ParameterValues(\"Chen2020\")\n",
    "            return parameter_values\n",
    "        elif chemistry == \"NMC\":\n",
    "            # parameter_values = pybamm.ParameterValues.create_from_bpx(NMC)\n",
    "            parameter_values = pybamm.ParameterValues(\"Chen2020\")\n",
    "            return parameter_values\n",
    "        \n",
    "    # This would be something like localhost:8080/chemistry=LFP/model=dfn\n",
    "    def set_electrochemical_model(self, electrochemical_model=\"DFN\"): # default will be DFN, idk what it does and I will worry about this when it may matter - maybe\n",
    "        if electrochemical_model == \"DFN\":\n",
    "            return pybamm.lithium_ion.DFN()\n",
    "        elif electrochemical_model == \"SPM\":\n",
    "            return pybamm.lithium_ion.SPM()\n",
    "        elif electrochemical_model == \"SPMe\":\n",
    "            return pybamm.lithium_ion.SPMe()\n",
    "        else:\n",
    "            raise ValueError(f\"Unknown model type: {electrochemical_model} Please pick DFN, SPM or SPMe\")\n",
    "        \n",
    "    # # This would be something like localhost:8080/chemistry=LFP/model=dfn/adjustedParameters=true\n",
    "    # def set_adjusted_parameter_values(self, adjusted_parameters):\n",
    "    #     parameter_values.update(adjusted_parameters)\n",
    "    \n",
    "    # # This would be something like localhost:8080/chemistry=LFP/model=dfn/adjustedParameters=true/solver=casadi\n",
    "    def set_solver(self, solver):\n",
    "        solver = pybamm.CasadiSolver(\"safe\", atol=1e-6, rtol=1e-6)\n",
    "        # Prevent solver failure if interpolant bounds are exceeded by a negligible amount\n",
    "        solver._on_extrapolation = \"warn\"\n",
    "        return solver\n",
    "\n",
    "# from SetupSimulation import SetupSimulation - not needed in notebook\n",
    "class SimulateBattery:\n",
    "    def __init__(self, chemistry, electrochemical_model, solver):\n",
    "        self.chemistry = chemistry\n",
    "        self.electrochemical_model = electrochemical_model\n",
    "        self.solver = solver\n",
    "        self.setup_simulation = SetupSimulation(chemistry, electrochemical_model, solver)\n",
    "\n",
    "    def simulate_battery_base_model(self):\n",
    "        parameter_values = self.setup_simulation.set_battery_chemistry(self.chemistry)\n",
    "        model = self.setup_simulation.set_electrochemical_model(self.electrochemical_model)\n",
    "        solver = self.setup_simulation.set_solver(self.solver)\n",
    "\n",
    "        simulation = pybamm.Simulation(model, parameter_values=parameter_values, solver=solver)\n",
    "\n",
    "        # Example: Simulating for a specific time range\n",
    "        time_span = [0, 3700]  # Adjust this according to your needs\n",
    "        solution = simulation.solve(time_span)\n",
    "\n",
    "        return solution\n",
    "\n",
    "if __name__ == \"__main__\":\n",
    "    sim = SimulateBattery(chemistry=\"LFP\", electrochemical_model=\"DFN\", solver=\"CasadiSolver\")\n",
    "    simulation = sim.simulate_battery_base_model()\n",
    "    \n",
    "    simulation.plot()"
   ]
  },
  {
   "cell_type": "code",
   "execution_count": 66,
   "metadata": {},
   "outputs": [
    {
     "ename": "ModuleNotFoundError",
     "evalue": "No module named 'SetupSimulation'",
     "output_type": "error",
     "traceback": [
      "\u001b[1;31m---------------------------------------------------------------------------\u001b[0m",
      "\u001b[1;31mModuleNotFoundError\u001b[0m                       Traceback (most recent call last)",
      "Cell \u001b[1;32mIn[66], line 1\u001b[0m\n\u001b[1;32m----> 1\u001b[0m \u001b[38;5;28;01mfrom\u001b[39;00m \u001b[38;5;21;01mSetupSimulation\u001b[39;00m \u001b[38;5;28;01mimport\u001b[39;00m SetupSimulation\n\u001b[0;32m      2\u001b[0m \u001b[38;5;28;01mclass\u001b[39;00m \u001b[38;5;21;01mSimulateBattery\u001b[39;00m:\n\u001b[0;32m      3\u001b[0m     \u001b[38;5;28;01mdef\u001b[39;00m \u001b[38;5;21m__init__\u001b[39m(\u001b[38;5;28mself\u001b[39m, chemistry, electrochemical_model, solver):\n",
      "\u001b[1;31mModuleNotFoundError\u001b[0m: No module named 'SetupSimulation'"
     ]
    }
   ],
   "source": []
  },
  {
   "cell_type": "code",
   "execution_count": null,
   "metadata": {},
   "outputs": [],
   "source": []
  }
 ],
 "metadata": {
  "kernelspec": {
   "display_name": "Python 3",
   "language": "python",
   "name": "python3"
  },
  "language_info": {
   "codemirror_mode": {
    "name": "ipython",
    "version": 3
   },
   "file_extension": ".py",
   "mimetype": "text/x-python",
   "name": "python",
   "nbconvert_exporter": "python",
   "pygments_lexer": "ipython3",
   "version": "3.11.1"
  }
 },
 "nbformat": 4,
 "nbformat_minor": 2
}
