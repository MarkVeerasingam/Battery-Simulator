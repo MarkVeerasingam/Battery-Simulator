{
 "cells": [
  {
   "cell_type": "code",
   "execution_count": 2,
   "metadata": {},
   "outputs": [
    {
     "ename": "FileNotFoundError",
     "evalue": "[Errno 2] No such file or directory: 'Li-Ion-Battery-Simulator\\\\BatterySimulator\\\\Simulation\\\\LFP\\\\lfp_18650_cell_BPX.json'",
     "output_type": "error",
     "traceback": [
      "\u001b[1;31m---------------------------------------------------------------------------\u001b[0m",
      "\u001b[1;31mFileNotFoundError\u001b[0m                         Traceback (most recent call last)",
      "Cell \u001b[1;32mIn[2], line 3\u001b[0m\n\u001b[0;32m      1\u001b[0m \u001b[38;5;28;01mimport\u001b[39;00m \u001b[38;5;21;01mpybamm\u001b[39;00m\n\u001b[1;32m----> 3\u001b[0m parameter_values \u001b[38;5;241m=\u001b[39m \u001b[43mpybamm\u001b[49m\u001b[38;5;241;43m.\u001b[39;49m\u001b[43mParameterValues\u001b[49m\u001b[38;5;241;43m.\u001b[39;49m\u001b[43mcreate_from_bpx\u001b[49m\u001b[43m(\u001b[49m\u001b[38;5;124;43m\"\u001b[39;49m\u001b[38;5;124;43mLi-Ion-Battery-Simulator\u001b[39;49m\u001b[38;5;124;43m\\\u001b[39;49m\u001b[38;5;124;43mBatterySimulator\u001b[39;49m\u001b[38;5;124;43m\\\u001b[39;49m\u001b[38;5;124;43mSimulation\u001b[39;49m\u001b[38;5;124;43m\\\u001b[39;49m\u001b[38;5;124;43mLFP\u001b[39;49m\u001b[38;5;124;43m\\\u001b[39;49m\u001b[38;5;124;43mlfp_18650_cell_BPX.json\u001b[39;49m\u001b[38;5;124;43m\"\u001b[39;49m\u001b[43m)\u001b[49m\n\u001b[0;32m      4\u001b[0m parameter_values\n",
      "File \u001b[1;32mc:\\Python310\\lib\\site-packages\\pybamm\\parameters\\parameter_values.py:100\u001b[0m, in \u001b[0;36mParameterValues.create_from_bpx\u001b[1;34m(filename, target_soc)\u001b[0m\n\u001b[0;32m     97\u001b[0m \u001b[38;5;28;01mfrom\u001b[39;00m \u001b[38;5;21;01m.\u001b[39;00m\u001b[38;5;21;01mbpx\u001b[39;00m \u001b[38;5;28;01mimport\u001b[39;00m _bpx_to_param_dict\n\u001b[0;32m     99\u001b[0m \u001b[38;5;66;03m# parse bpx\u001b[39;00m\n\u001b[1;32m--> 100\u001b[0m bpx \u001b[38;5;241m=\u001b[39m \u001b[43mparse_bpx_file\u001b[49m\u001b[43m(\u001b[49m\u001b[43mfilename\u001b[49m\u001b[43m)\u001b[49m\n\u001b[0;32m    101\u001b[0m pybamm_dict \u001b[38;5;241m=\u001b[39m _bpx_to_param_dict(bpx)\n\u001b[0;32m    103\u001b[0m \u001b[38;5;28;01mif\u001b[39;00m \u001b[38;5;124m\"\u001b[39m\u001b[38;5;124mOpen-circuit voltage at 0\u001b[39m\u001b[38;5;124m%\u001b[39m\u001b[38;5;124m SOC [V]\u001b[39m\u001b[38;5;124m\"\u001b[39m \u001b[38;5;129;01mnot\u001b[39;00m \u001b[38;5;129;01min\u001b[39;00m pybamm_dict:\n",
      "File \u001b[1;32mc:\\Python310\\lib\\site-packages\\bpx\\parsers.py:17\u001b[0m, in \u001b[0;36mparse_bpx_file\u001b[1;34m(filename)\u001b[0m\n\u001b[0;32m      4\u001b[0m \u001b[38;5;28;01mdef\u001b[39;00m \u001b[38;5;21mparse_bpx_file\u001b[39m(filename: \u001b[38;5;28mstr\u001b[39m) \u001b[38;5;241m-\u001b[39m\u001b[38;5;241m>\u001b[39m BPX:\n\u001b[0;32m      5\u001b[0m \u001b[38;5;250m    \u001b[39m\u001b[38;5;124;03m\"\"\"\u001b[39;00m\n\u001b[0;32m      6\u001b[0m \u001b[38;5;124;03m    Parameters\u001b[39;00m\n\u001b[0;32m      7\u001b[0m \u001b[38;5;124;03m    ----------\u001b[39;00m\n\u001b[1;32m   (...)\u001b[0m\n\u001b[0;32m     15\u001b[0m \u001b[38;5;124;03m        a parsed BPX model\u001b[39;00m\n\u001b[0;32m     16\u001b[0m \u001b[38;5;124;03m    \"\"\"\u001b[39;00m\n\u001b[1;32m---> 17\u001b[0m     \u001b[38;5;28;01mreturn\u001b[39;00m \u001b[43mBPX\u001b[49m\u001b[38;5;241;43m.\u001b[39;49m\u001b[43mparse_file\u001b[49m\u001b[43m(\u001b[49m\u001b[43mfilename\u001b[49m\u001b[43m)\u001b[49m\n",
      "File \u001b[1;32mc:\\Python310\\lib\\site-packages\\pydantic\\main.py:561\u001b[0m, in \u001b[0;36mpydantic.main.BaseModel.parse_file\u001b[1;34m()\u001b[0m\n",
      "File \u001b[1;32mc:\\Python310\\lib\\site-packages\\pydantic\\parse.py:57\u001b[0m, in \u001b[0;36mpydantic.parse.load_file\u001b[1;34m()\u001b[0m\n",
      "File \u001b[1;32mc:\\Python310\\lib\\pathlib.py:1126\u001b[0m, in \u001b[0;36mPath.read_bytes\u001b[1;34m(self)\u001b[0m\n\u001b[0;32m   1122\u001b[0m \u001b[38;5;28;01mdef\u001b[39;00m \u001b[38;5;21mread_bytes\u001b[39m(\u001b[38;5;28mself\u001b[39m):\n\u001b[0;32m   1123\u001b[0m \u001b[38;5;250m    \u001b[39m\u001b[38;5;124;03m\"\"\"\u001b[39;00m\n\u001b[0;32m   1124\u001b[0m \u001b[38;5;124;03m    Open the file in bytes mode, read it, and close the file.\u001b[39;00m\n\u001b[0;32m   1125\u001b[0m \u001b[38;5;124;03m    \"\"\"\u001b[39;00m\n\u001b[1;32m-> 1126\u001b[0m     \u001b[38;5;28;01mwith\u001b[39;00m \u001b[38;5;28;43mself\u001b[39;49m\u001b[38;5;241;43m.\u001b[39;49m\u001b[43mopen\u001b[49m\u001b[43m(\u001b[49m\u001b[43mmode\u001b[49m\u001b[38;5;241;43m=\u001b[39;49m\u001b[38;5;124;43m'\u001b[39;49m\u001b[38;5;124;43mrb\u001b[39;49m\u001b[38;5;124;43m'\u001b[39;49m\u001b[43m)\u001b[49m \u001b[38;5;28;01mas\u001b[39;00m f:\n\u001b[0;32m   1127\u001b[0m         \u001b[38;5;28;01mreturn\u001b[39;00m f\u001b[38;5;241m.\u001b[39mread()\n",
      "File \u001b[1;32mc:\\Python310\\lib\\pathlib.py:1119\u001b[0m, in \u001b[0;36mPath.open\u001b[1;34m(self, mode, buffering, encoding, errors, newline)\u001b[0m\n\u001b[0;32m   1117\u001b[0m \u001b[38;5;28;01mif\u001b[39;00m \u001b[38;5;124m\"\u001b[39m\u001b[38;5;124mb\u001b[39m\u001b[38;5;124m\"\u001b[39m \u001b[38;5;129;01mnot\u001b[39;00m \u001b[38;5;129;01min\u001b[39;00m mode:\n\u001b[0;32m   1118\u001b[0m     encoding \u001b[38;5;241m=\u001b[39m io\u001b[38;5;241m.\u001b[39mtext_encoding(encoding)\n\u001b[1;32m-> 1119\u001b[0m \u001b[38;5;28;01mreturn\u001b[39;00m \u001b[38;5;28;43mself\u001b[39;49m\u001b[38;5;241;43m.\u001b[39;49m\u001b[43m_accessor\u001b[49m\u001b[38;5;241;43m.\u001b[39;49m\u001b[43mopen\u001b[49m\u001b[43m(\u001b[49m\u001b[38;5;28;43mself\u001b[39;49m\u001b[43m,\u001b[49m\u001b[43m \u001b[49m\u001b[43mmode\u001b[49m\u001b[43m,\u001b[49m\u001b[43m \u001b[49m\u001b[43mbuffering\u001b[49m\u001b[43m,\u001b[49m\u001b[43m \u001b[49m\u001b[43mencoding\u001b[49m\u001b[43m,\u001b[49m\u001b[43m \u001b[49m\u001b[43merrors\u001b[49m\u001b[43m,\u001b[49m\n\u001b[0;32m   1120\u001b[0m \u001b[43m                           \u001b[49m\u001b[43mnewline\u001b[49m\u001b[43m)\u001b[49m\n",
      "\u001b[1;31mFileNotFoundError\u001b[0m: [Errno 2] No such file or directory: 'Li-Ion-Battery-Simulator\\\\BatterySimulator\\\\Simulation\\\\LFP\\\\lfp_18650_cell_BPX.json'"
     ]
    }
   ],
   "source": [
    "import pybamm\n",
    "\n",
    "parameter_values = pybamm.ParameterValues.create_from_bpx(r\"C:\\Users\\MVeerasi.ANALOG\\Documents\\InternshipFY24\\Li-Ion-Battery-Simulator\\BatterySimulator\\Simulation\\LFP\\lfp_18650_cell_BPX.json\")\n",
    "parameter_values"
   ]
  },
  {
   "cell_type": "code",
   "execution_count": 21,
   "metadata": {},
   "outputs": [
    {
     "name": "stdout",
     "output_type": "stream",
     "text": [
      "Lower voltage cut-off [V]\t2.0\n",
      "Open-circuit voltage at 0% SOC [V]\t2.0\n",
      "Open-circuit voltage at 100% SOC [V]\t3.65\n",
      "Upper voltage cut-off [V]\t3.65\n"
     ]
    }
   ],
   "source": [
    "# could implement a way to search what parameter you want to edit.\n",
    "parameter_values.search(\"voltage\")\n"
   ]
  },
  {
   "cell_type": "code",
   "execution_count": 37,
   "metadata": {},
   "outputs": [],
   "source": [
    "# adjusting\n",
    "parameter_values[\"Current function [A]\"] = 10\n",
    "parameter_values[\"Open-circuit voltage at 100% SOC [V]\"] = 4.2"
   ]
  },
  {
   "cell_type": "code",
   "execution_count": 38,
   "metadata": {},
   "outputs": [],
   "source": [
    "# Create a DFN model\n",
    "model = pybamm.lithium_ion.DFN()"
   ]
  },
  {
   "cell_type": "code",
   "execution_count": 39,
   "metadata": {},
   "outputs": [],
   "source": [
    "# solver\n",
    "solver = pybamm.CasadiSolver(\"safe\", atol=1e-6, rtol=1e-6)\n",
    "\n",
    "# Prevent solver failure if interpolant bounds are exceeded by a negligible amount\n",
    "solver._on_extrapolation = \"warn\""
   ]
  },
  {
   "cell_type": "code",
   "execution_count": 40,
   "metadata": {},
   "outputs": [],
   "source": [
    "# Define an experiment\n",
    "experiment = pybamm.Experiment(\n",
    "    [\n",
    "        (\n",
    "            \"Discharge at C/5 for 10 hours or until 2.5 V\",\n",
    "            \"Rest for 1 hour\",\n",
    "            \"Charge at 1 A until 3.5 V\",\n",
    "            \"Hold at 3.5 V until 10 mA\",\n",
    "            \"Rest for 1 hour\",\n",
    "        ),\n",
    "    ]\n",
    "    * 2\n",
    ")"
   ]
  },
  {
   "cell_type": "code",
   "execution_count": 41,
   "metadata": {},
   "outputs": [],
   "source": [
    "# Create a simulation object\n",
    "sim = pybamm.Simulation(model, parameter_values=parameter_values, solver=solver, experiment=experiment)"
   ]
  },
  {
   "cell_type": "code",
   "execution_count": 42,
   "metadata": {},
   "outputs": [
    {
     "name": "stderr",
     "output_type": "stream",
     "text": [
      "At t = 238.258 and h = 5.10856e-13, the corrector convergence failed repeatedly or with |h| = hmin.\n",
      "At t = 238.258 and h = 1.11737e-18, the corrector convergence failed repeatedly or with |h| = hmin.\n",
      "At t = 118.258 and h = 7.54588e-18, the corrector convergence failed repeatedly or with |h| = hmin.\n",
      "At t = 233.714 and h = 2.1527e-07, the corrector convergence failed repeatedly or with |h| = hmin.\n",
      "At t = 236.506 and h = 1.21426e-09, the corrector convergence failed repeatedly or with |h| = hmin.\n",
      "At t = 135.305 and h = 1.82393e-13, the corrector convergence failed repeatedly or with |h| = hmin.\n",
      "At t = 135.305 and h = 1.0935e-13, the corrector convergence failed repeatedly or with |h| = hmin.\n",
      "At t = 257.867 and h = 3.58477e-09, the corrector convergence failed repeatedly or with |h| = hmin.\n"
     ]
    },
    {
     "data": {
      "text/plain": [
       "<pybamm.solvers.solution.Solution at 0x2055570ced0>"
      ]
     },
     "execution_count": 42,
     "metadata": {},
     "output_type": "execute_result"
    }
   ],
   "source": [
    "# Simulate\n",
    "sim.solve()"
   ]
  },
  {
   "cell_type": "code",
   "execution_count": 43,
   "metadata": {},
   "outputs": [
    {
     "data": {
      "application/vnd.jupyter.widget-view+json": {
       "model_id": "74c4e74b604b446d809aeeb6bbafb9bf",
       "version_major": 2,
       "version_minor": 0
      },
      "text/plain": [
       "interactive(children=(FloatSlider(value=0.0, description='t', max=19.093923303580432, step=0.19093923303580432…"
      ]
     },
     "metadata": {},
     "output_type": "display_data"
    },
    {
     "data": {
      "text/plain": [
       "<pybamm.plotting.quick_plot.QuickPlot at 0x20568da4750>"
      ]
     },
     "execution_count": 43,
     "metadata": {},
     "output_type": "execute_result"
    }
   ],
   "source": [
    "# Plot results\n",
    "sim.plot()"
   ]
  },
  {
   "cell_type": "code",
   "execution_count": 8,
   "metadata": {},
   "outputs": [],
   "source": [
    "NMC=(r\"C:\\Users\\markv\\Documents\\Repos\\2024\\BatterySimulator_v2\\BatterySimulator_SimulationBackend\\Li-Ion-Battery-Simulator\\BatterySimulator\\Simulation\\NMC\\AE_gen1_BPX.json\")\n",
    "LFP=(r\"C:\\Users\\MVeerasi.ANALOG\\Documents\\InternshipFY24\\Li-Ion-Battery-Simulator\\BatterySimulator\\Simulation\\LFP\\lfp_18650_cell_BPX.json\")"
   ]
  },
  {
   "cell_type": "markdown",
   "metadata": {},
   "source": [
    "# OOP SUCKS"
   ]
  },
  {
   "cell_type": "code",
   "execution_count": 14,
   "metadata": {},
   "outputs": [
    {
     "name": "stderr",
     "output_type": "stream",
     "text": [
      "The linesearch algorithm failed with too small a step.\n",
      "The linesearch algorithm failed with too small a step.\n",
      "At t = 452.524 and h = 1.30213e-18, the corrector convergence failed repeatedly or with |h| = hmin.\n",
      "At t = 153.535 and h = 2.52947e-17, the corrector convergence failed repeatedly or with |h| = hmin.\n"
     ]
    },
    {
     "data": {
      "application/vnd.jupyter.widget-view+json": {
       "model_id": "dfeef33b87594756999795ffbcfa5030",
       "version_major": 2,
       "version_minor": 0
      },
      "text/plain": [
       "interactive(children=(FloatSlider(value=0.0, description='t', max=3579.1633260284893, step=35.7916332602849), …"
      ]
     },
     "metadata": {},
     "output_type": "display_data"
    }
   ],
   "source": [
    "import pybamm\n",
    "\n",
    "class SetupSimulation:\n",
    "    def __init__(self, chemistry, electrochemical_model, solver) -> None:\n",
    "        self.chemistry = chemistry\n",
    "        self.adjusted_parameters = {} # Placeholder dictionary for user-adjusted parameters.\n",
    "        self.electrochemical_model = electrochemical_model # electrochemistry-based lithium-ion battery model \n",
    "        self.solver = solver \n",
    "        # could put cell_type to help filter dupe chemistries?\n",
    "\n",
    "    ADJUSTABLE_PARAMETERS = [\n",
    "            \"Ambient temperature [K]\",\n",
    "            \"Initial temperature [K]\",\n",
    "            \"Lower voltage cut-off [V]\",\n",
    "            \"Upper voltage cut-off [V]\",\n",
    "            \"Current function [A]\",\n",
    "        ]\n",
    "    \n",
    "    # This would be something like localhost:8080/chemistry=LFP/\n",
    "    def set_battery_chemistry(self, chemistry):\n",
    "        if chemistry == \"LFP\":\n",
    "            parameter_values = pybamm.ParameterValues.create_from_bpx(LFP)\n",
    "            # parameter_values = pybamm.ParameterValues(\"Chen2020\")\n",
    "            return parameter_values\n",
    "        elif chemistry == \"NMC\":\n",
    "            parameter_values = pybamm.ParameterValues.create_from_bpx(NMC)\n",
    "            # parameter_values = pybamm.ParameterValues(\"Chen2020\")\n",
    "            return parameter_values\n",
    "        \n",
    "    # This would be something like localhost:8080/chemistry=LFP/model=dfn\n",
    "    def set_electrochemical_model(self, electrochemical_model=\"DFN\"): # default will be DFN, idk what it does and I will worry about this when it may matter - maybe\n",
    "        if electrochemical_model == \"DFN\":\n",
    "            return pybamm.lithium_ion.DFN()\n",
    "        elif electrochemical_model == \"SPM\":\n",
    "            return pybamm.lithium_ion.SPM()\n",
    "        elif electrochemical_model == \"SPMe\":\n",
    "            return pybamm.lithium_ion.SPMe()\n",
    "        else:\n",
    "            raise ValueError(f\"Unknown model type: {electrochemical_model} Please pick DFN, SPM or SPMe\")\n",
    "        \n",
    "    # # This would be something like localhost:8080/chemistry=LFP/model=dfn/adjustedParameters=true\n",
    "    # def set_adjusted_parameter_values(self, adjusted_parameters):\n",
    "    #     parameter_values.update(adjusted_parameters)\n",
    "    \n",
    "    # # This would be something like localhost:8080/chemistry=LFP/model=dfn/adjustedParameters=true/solver=casadi\n",
    "    def set_solver(self, solver):\n",
    "        solver = pybamm.CasadiSolver(\"safe\", atol=1e-6, rtol=1e-6)\n",
    "        # Prevent solver failure if interpolant bounds are exceeded by a negligible amount\n",
    "        solver._on_extrapolation = \"warn\"\n",
    "        return solver\n",
    "\n",
    "# from SetupSimulation import SetupSimulation - not needed in notebook\n",
    "class SimulateBattery:\n",
    "    def __init__(self, chemistry, electrochemical_model, solver):\n",
    "        self.chemistry = chemistry\n",
    "        self.electrochemical_model = electrochemical_model\n",
    "        self.solver = solver\n",
    "        self.setup_simulation = SetupSimulation(chemistry, electrochemical_model, solver)\n",
    "\n",
    "    def simulate_battery_base_model(self):\n",
    "        parameter_values = self.setup_simulation.set_battery_chemistry(self.chemistry)\n",
    "        model = self.setup_simulation.set_electrochemical_model(self.electrochemical_model)\n",
    "        solver = self.setup_simulation.set_solver(self.solver)\n",
    "\n",
    "        simulation = pybamm.Simulation(model, parameter_values=parameter_values, solver=solver)\n",
    "\n",
    "        # Example: Simulating for a specific time range\n",
    "        time_span = [0, 3700]  # Adjust this according to your needs\n",
    "        solution = simulation.solve(time_span)\n",
    "\n",
    "        return solution\n",
    "\n",
    "if __name__ == \"__main__\":\n",
    "    sim = SimulateBattery(chemistry=\"LFP\", electrochemical_model=\"DFN\", solver=\"CasadiSolver\")\n",
    "    simulation = sim.simulate_battery_base_model()\n",
    "    \n",
    "    simulation.plot()"
   ]
  },
  {
   "cell_type": "code",
   "execution_count": 47,
   "metadata": {},
   "outputs": [],
   "source": [
    "import pybamm\n",
    "from pydantic import BaseModel, StrictStr, validator\n",
    "\n",
    "class SetupModel(BaseModel):\n",
    "    chemistry: StrictStr \n",
    "    electrochemical_model: StrictStr\n",
    "    solver: StrictStr\n",
    "\n",
    "    # make a validator to validate if the the chemistry is not in the config then cant work\n",
    "    @validator(\"chemistry\")\n",
    "    def validate_chemistry(cls, chemistry_type):\n",
    "        if chemistry_type not in {\"LFP\", \"NMC\"}: # update this condition so if not in the battery.config\n",
    "            raise ValueError(f\"Invalid chemistry Model Type: {chemistry_type}\")\n",
    "\n",
    "    @validator(\"electrochemical_model\")\n",
    "    def validate_electrochemical_model(cls, model_type):\n",
    "        if model_type not in {\"DFN\", \"SPM\", \"SPMe\"}:\n",
    "            raise ValueError(f\"Invalid Electrochemical Model Type: {model_type}\")\n",
    "        \n",
    "    # might make solver it's own class because of it's solving type\n",
    "\n",
    "# example model setup where we will use the about:energy LFP model through BPX\n",
    "setupModel = SetupModel(\n",
    "    chemistry=\"LFP\",\n",
    "    electrochemical_model=\"DFN\",\n",
    "    solver=\"CasadiSolver\"\n",
    ")\n",
    "\n",
    "def set_solver(solver):\n",
    "    solver = pybamm.CasadiSolver(\"safe\", atol=1e-6, rtol=1e-6)\n",
    "    # Prevent solver failure if interpolant bounds are exceeded by a negligible amount\n",
    "    solver._on_extrapolation = \"warn\"\n",
    "    return solver\n",
    "\n",
    "\n",
    "    "
   ]
  },
  {
   "cell_type": "code",
   "execution_count": 33,
   "metadata": {},
   "outputs": [
    {
     "ename": "ValidationError",
     "evalue": "1 validation error for User\naccount_id\n  value is not a valid integer (type=type_error.integer)",
     "output_type": "error",
     "traceback": [
      "\u001b[1;31m---------------------------------------------------------------------------\u001b[0m",
      "\u001b[1;31mValidationError\u001b[0m                           Traceback (most recent call last)",
      "Cell \u001b[1;32mIn[33], line 8\u001b[0m\n\u001b[0;32m      5\u001b[0m     email: \u001b[38;5;28mstr\u001b[39m\n\u001b[0;32m      6\u001b[0m     account_id: StrictInt\n\u001b[1;32m----> 8\u001b[0m user \u001b[38;5;241m=\u001b[39m \u001b[43mUser\u001b[49m\u001b[43m(\u001b[49m\u001b[43mname\u001b[49m\u001b[38;5;241;43m=\u001b[39;49m\u001b[38;5;124;43m\"\u001b[39;49m\u001b[38;5;124;43mjack\u001b[39;49m\u001b[38;5;124;43m\"\u001b[39;49m\u001b[43m,\u001b[49m\u001b[43m \u001b[49m\u001b[43memail\u001b[49m\u001b[38;5;241;43m=\u001b[39;49m\u001b[38;5;124;43m\"\u001b[39;49m\u001b[38;5;124;43mjack@mail.com\u001b[39;49m\u001b[38;5;124;43m\"\u001b[39;49m\u001b[43m,\u001b[49m\u001b[43m \u001b[49m\u001b[43maccount_id\u001b[49m\u001b[38;5;241;43m=\u001b[39;49m\u001b[38;5;124;43m\"\u001b[39;49m\u001b[38;5;124;43m1234\u001b[39;49m\u001b[38;5;124;43m\"\u001b[39;49m\u001b[43m)\u001b[49m\n\u001b[0;32m      9\u001b[0m \u001b[38;5;28mprint\u001b[39m(user\u001b[38;5;241m.\u001b[39mname)\n",
      "File \u001b[1;32mc:\\Python310\\lib\\site-packages\\pydantic\\main.py:341\u001b[0m, in \u001b[0;36mpydantic.main.BaseModel.__init__\u001b[1;34m()\u001b[0m\n",
      "\u001b[1;31mValidationError\u001b[0m: 1 validation error for User\naccount_id\n  value is not a valid integer (type=type_error.integer)"
     ]
    }
   ],
   "source": []
  },
  {
   "cell_type": "code",
   "execution_count": null,
   "metadata": {},
   "outputs": [],
   "source": []
  }
 ],
 "metadata": {
  "kernelspec": {
   "display_name": "Python 3",
   "language": "python",
   "name": "python3"
  },
  "language_info": {
   "codemirror_mode": {
    "name": "ipython",
    "version": 3
   },
   "file_extension": ".py",
   "mimetype": "text/x-python",
   "name": "python",
   "nbconvert_exporter": "python",
   "pygments_lexer": "ipython3",
   "version": "3.10.9"
  }
 },
 "nbformat": 4,
 "nbformat_minor": 2
}
