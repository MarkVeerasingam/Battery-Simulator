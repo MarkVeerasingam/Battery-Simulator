{
 "cells": [
  {
   "cell_type": "code",
   "execution_count": 4,
   "metadata": {},
   "outputs": [],
   "source": [
    "import pybamm\n",
    "import time\n",
    "import numpy as np\n",
    "import jax\n",
    "import jax.numpy as jnp"
   ]
  },
  {
   "cell_type": "code",
   "execution_count": 5,
   "metadata": {},
   "outputs": [
    {
     "name": "stdout",
     "output_type": "stream",
     "text": [
      "Available devices: [cuda(id=0)]\n"
     ]
    }
   ],
   "source": [
    "# 1) pip install \"pybamm[iree,jax]\"  \n",
    "# 2) then install after \"pip install jax[cuda12]\" - this upgrades jax to support CUDA12\n",
    "print(\"Available devices:\", jax.devices())"
   ]
  },
  {
   "cell_type": "code",
   "execution_count": 6,
   "metadata": {},
   "outputs": [],
   "source": [
    "# We will want to differentiate our model, so let's define two input parameters\n",
    "inputs = {\n",
    "    \"Current function [A]\": 0.222,\n",
    "    \"Separator porosity\": 0.3,\n",
    "    \n",
    "}\n",
    "\n",
    "# Set-up the model\n",
    "options = {\"cell geometry\": \"arbitrary\", \"thermal\": \"lumped\"}\n",
    "model = pybamm.lithium_ion.DFN(options=options)\n",
    "geometry = model.default_geometry\n",
    "param = model.default_parameter_values\n",
    "param.update({key: \"[input]\" for key in inputs.keys()})\n",
    "param.process_geometry(geometry)\n",
    "param.process_model(model)\n",
    "var = pybamm.standard_spatial_vars\n",
    "var_pts = {var.x_n: 20, var.x_s: 20, var.x_p: 20, var.r_n: 10, var.r_p: 10}\n",
    "mesh = pybamm.Mesh(geometry, model.default_submesh_types, var_pts)\n",
    "disc = pybamm.Discretisation(mesh, model.default_spatial_methods)\n",
    "disc.process_model(model)\n",
    "\n",
    "# Use a short time-vector for this example, and declare which variables to track\n",
    "t_eval = np.linspace(0, 360, 10)\n",
    "output_variables = [\n",
    "    \"Voltage [V]\",\n",
    "    \"Current [A]\",\n",
    "    \"Time [min]\",\n",
    "]\n",
    "\n",
    "# Create the IDAKLU Solver object\n",
    "idaklu_solver = pybamm.IDAKLUSolver(\n",
    "    rtol=1e-6,\n",
    "    atol=1e-6,\n",
    "    output_variables=output_variables,\n",
    ")"
   ]
  },
  {
   "cell_type": "code",
   "execution_count": 7,
   "metadata": {},
   "outputs": [
    {
     "name": "stdout",
     "output_type": "stream",
     "text": [
      "JAX expression: <function IDAKLUJax._jaxify.<locals>.f at 0x7f5c45007370>\n"
     ]
    }
   ],
   "source": [
    "# This is how we would normally perform a solve using IDAKLU\n",
    "sim = idaklu_solver.solve(\n",
    "    model,\n",
    "    t_eval,\n",
    "    inputs=inputs,\n",
    "    calculate_sensitivities=True,\n",
    ")\n",
    "\n",
    "# Instead, we Jaxify the IDAKLU solver using similar arguments...\n",
    "jax_solver = idaklu_solver.jaxify(\n",
    "    model,\n",
    "    t_eval,\n",
    ")\n",
    "\n",
    "# ... and then obtain a JAX expression for the solve\n",
    "f = jax_solver.get_jaxpr()\n",
    "print(f\"JAX expression: {f}\")"
   ]
  },
  {
   "cell_type": "code",
   "execution_count": 8,
   "metadata": {},
   "outputs": [
    {
     "name": "stdout",
     "output_type": "stream",
     "text": [
      "JAX expression: <function IDAKLUJax._jaxify.<locals>.f at 0x7f5c450077f0>\n"
     ]
    }
   ],
   "source": [
    "# This is how we would normally perform a solve using IDAKLU\n",
    "sim = idaklu_solver.solve(\n",
    "    model,\n",
    "    t_eval,\n",
    "    inputs=inputs,\n",
    "    calculate_sensitivities=True,\n",
    ")\n",
    "\n",
    "# Instead, we Jaxify the IDAKLU solver using similar arguments...\n",
    "jax_solver = idaklu_solver.jaxify(\n",
    "    model,\n",
    "    t_eval,\n",
    ")\n",
    "\n",
    "# ... and then obtain a JAX expression for the solve\n",
    "f = jax_solver.get_jaxpr()\n",
    "print(f\"JAX expression: {f}\")"
   ]
  },
  {
   "cell_type": "code",
   "execution_count": 9,
   "metadata": {},
   "outputs": [
    {
     "name": "stderr",
     "output_type": "stream",
     "text": [
      "'+ptx86' is not a recognized feature for this target (ignoring feature)\n",
      "'+ptx86' is not a recognized feature for this target (ignoring feature)\n",
      "'+ptx86' is not a recognized feature for this target (ignoring feature)\n"
     ]
    },
    {
     "name": "stdout",
     "output_type": "stream",
     "text": [
      "[[3.81933939 0.222      0.        ]\n",
      " [3.81351212 0.222      0.66666667]\n",
      " [3.81085748 0.222      1.33333333]\n",
      " [3.80891269 0.222      2.        ]\n",
      " [3.80720408 0.222      2.66666667]\n",
      " [3.80558248 0.222      3.33333333]\n",
      " [3.80399826 0.222      4.        ]\n",
      " [3.80243274 0.222      4.66666667]\n",
      " [3.80087893 0.222      5.33333333]\n",
      " [3.79933422 0.222      6.        ]]\n"
     ]
    }
   ],
   "source": [
    "# Print all output variables, evaluated over a given time vector\n",
    "data = f(t_eval, inputs)\n",
    "print(data)"
   ]
  },
  {
   "cell_type": "code",
   "execution_count": 10,
   "metadata": {},
   "outputs": [
    {
     "name": "stdout",
     "output_type": "stream",
     "text": [
      "Isolating a single variable returns an array of shape (10,)\n",
      "[3.81933939 3.81351212 3.81085748 3.80891269 3.80720408 3.80558248\n",
      " 3.80399826 3.80243274 3.80087893 3.79933422]\n",
      "\n",
      "Isolating two variables returns an array of shape (10, 2)\n",
      "[[3.81933939 0.222     ]\n",
      " [3.81351212 0.222     ]\n",
      " [3.81085748 0.222     ]\n",
      " [3.80891269 0.222     ]\n",
      " [3.80720408 0.222     ]\n",
      " [3.80558248 0.222     ]\n",
      " [3.80399826 0.222     ]\n",
      " [3.80243274 0.222     ]\n",
      " [3.80087893 0.222     ]\n",
      " [3.79933422 0.222     ]]\n"
     ]
    },
    {
     "name": "stderr",
     "output_type": "stream",
     "text": [
      "'+ptx86' is not a recognized feature for this target (ignoring feature)\n",
      "'+ptx86' is not a recognized feature for this target (ignoring feature)\n",
      "'+ptx86' is not a recognized feature for this target (ignoring feature)\n",
      "'+ptx86' is not a recognized feature for this target (ignoring feature)\n",
      "'+ptx86' is not a recognized feature for this target (ignoring feature)\n",
      "'+ptx86' is not a recognized feature for this target (ignoring feature)\n",
      "'+ptx86' is not a recognized feature for this target (ignoring feature)\n",
      "'+ptx86' is not a recognized feature for this target (ignoring feature)\n",
      "'+ptx86' is not a recognized feature for this target (ignoring feature)\n",
      "'+ptx86' is not a recognized feature for this target (ignoring feature)\n",
      "'+ptx86' is not a recognized feature for this target (ignoring feature)\n",
      "'+ptx86' is not a recognized feature for this target (ignoring feature)\n",
      "'+ptx86' is not a recognized feature for this target (ignoring feature)\n",
      "'+ptx86' is not a recognized feature for this target (ignoring feature)\n",
      "'+ptx86' is not a recognized feature for this target (ignoring feature)\n",
      "'+ptx86' is not a recognized feature for this target (ignoring feature)\n",
      "'+ptx86' is not a recognized feature for this target (ignoring feature)\n",
      "'+ptx86' is not a recognized feature for this target (ignoring feature)\n"
     ]
    }
   ],
   "source": [
    "# Isolate a single variables\n",
    "data = jax_solver.get_var(\"Voltage [V]\")(t_eval, inputs)\n",
    "print(f\"Isolating a single variable returns an array of shape {data.shape}\")\n",
    "print(data)\n",
    "\n",
    "# Isolate two variables from the solver\n",
    "data = jax_solver.get_vars(\n",
    "    [\n",
    "        \"Voltage [V]\",\n",
    "        \"Current [A]\",\n",
    "    ],\n",
    ")(t_eval, inputs)\n",
    "print(f\"\\nIsolating two variables returns an array of shape {data.shape}\")\n",
    "print(data)"
   ]
  },
  {
   "cell_type": "code",
   "execution_count": 11,
   "metadata": {},
   "outputs": [
    {
     "name": "stderr",
     "output_type": "stream",
     "text": [
      "'+ptx86' is not a recognized feature for this target (ignoring feature)\n",
      "'+ptx86' is not a recognized feature for this target (ignoring feature)\n",
      "'+ptx86' is not a recognized feature for this target (ignoring feature)\n",
      "'+ptx86' is not a recognized feature for this target (ignoring feature)\n",
      "'+ptx86' is not a recognized feature for this target (ignoring feature)\n",
      "'+ptx86' is not a recognized feature for this target (ignoring feature)\n",
      "'+ptx86' is not a recognized feature for this target (ignoring feature)\n",
      "'+ptx86' is not a recognized feature for this target (ignoring feature)\n",
      "'+ptx86' is not a recognized feature for this target (ignoring feature)\n",
      "'+ptx86' is not a recognized feature for this target (ignoring feature)\n",
      "'+ptx86' is not a recognized feature for this target (ignoring feature)\n",
      "'+ptx86' is not a recognized feature for this target (ignoring feature)\n",
      "'+ptx86' is not a recognized feature for this target (ignoring feature)\n",
      "'+ptx86' is not a recognized feature for this target (ignoring feature)\n",
      "'+ptx86' is not a recognized feature for this target (ignoring feature)\n",
      "'+ptx86' is not a recognized feature for this target (ignoring feature)\n",
      "'+ptx86' is not a recognized feature for this target (ignoring feature)\n",
      "'+ptx86' is not a recognized feature for this target (ignoring feature)\n",
      "'+ptx86' is not a recognized feature for this target (ignoring feature)\n",
      "'+ptx86' is not a recognized feature for this target (ignoring feature)\n",
      "'+ptx86' is not a recognized feature for this target (ignoring feature)\n",
      "'+ptx86' is not a recognized feature for this target (ignoring feature)\n",
      "'+ptx86' is not a recognized feature for this target (ignoring feature)\n",
      "'+ptx86' is not a recognized feature for this target (ignoring feature)\n",
      "'+ptx86' is not a recognized feature for this target (ignoring feature)\n",
      "'+ptx86' is not a recognized feature for this target (ignoring feature)\n",
      "'+ptx86' is not a recognized feature for this target (ignoring feature)\n",
      "'+ptx86' is not a recognized feature for this target (ignoring feature)\n",
      "'+ptx86' is not a recognized feature for this target (ignoring feature)\n",
      "'+ptx86' is not a recognized feature for this target (ignoring feature)\n",
      "'+ptx86' is not a recognized feature for this target (ignoring feature)\n",
      "'+ptx86' is not a recognized feature for this target (ignoring feature)\n",
      "'+ptx86' is not a recognized feature for this target (ignoring feature)\n",
      "'+ptx86' is not a recognized feature for this target (ignoring feature)\n",
      "'+ptx86' is not a recognized feature for this target (ignoring feature)\n",
      "'+ptx86' is not a recognized feature for this target (ignoring feature)\n",
      "'+ptx86' is not a recognized feature for this target (ignoring feature)\n",
      "'+ptx86' is not a recognized feature for this target (ignoring feature)\n",
      "'+ptx86' is not a recognized feature for this target (ignoring feature)\n",
      "'+ptx86' is not a recognized feature for this target (ignoring feature)\n",
      "'+ptx86' is not a recognized feature for this target (ignoring feature)\n",
      "'+ptx86' is not a recognized feature for this target (ignoring feature)\n",
      "'+ptx86' is not a recognized feature for this target (ignoring feature)\n",
      "'+ptx86' is not a recognized feature for this target (ignoring feature)\n",
      "'+ptx86' is not a recognized feature for this target (ignoring feature)\n",
      "'+ptx86' is not a recognized feature for this target (ignoring feature)\n",
      "'+ptx86' is not a recognized feature for this target (ignoring feature)\n",
      "'+ptx86' is not a recognized feature for this target (ignoring feature)\n",
      "'+ptx86' is not a recognized feature for this target (ignoring feature)\n",
      "'+ptx86' is not a recognized feature for this target (ignoring feature)\n",
      "'+ptx86' is not a recognized feature for this target (ignoring feature)\n",
      "'+ptx86' is not a recognized feature for this target (ignoring feature)\n",
      "'+ptx86' is not a recognized feature for this target (ignoring feature)\n",
      "'+ptx86' is not a recognized feature for this target (ignoring feature)\n",
      "'+ptx86' is not a recognized feature for this target (ignoring feature)\n",
      "'+ptx86' is not a recognized feature for this target (ignoring feature)\n",
      "'+ptx86' is not a recognized feature for this target (ignoring feature)\n"
     ]
    },
    {
     "name": "stdout",
     "output_type": "stream",
     "text": [
      "Jacobian forward method ran in 0.55 secs\n",
      "{'Current function [A]': Array([[-0.13629603,  1.        ,  0.        ],\n",
      "       [-0.13630352,  1.        ,  0.        ],\n",
      "       [-0.13631101,  1.        ,  0.        ],\n",
      "       [-0.13632595,  1.        ,  0.        ],\n",
      "       [-0.13635572,  1.        ,  0.        ],\n",
      "       [-0.13641497,  1.        ,  0.        ],\n",
      "       [-0.13647369,  1.        ,  0.        ],\n",
      "       [-0.13653216,  1.        ,  0.        ],\n",
      "       [-0.13664787,  1.        ,  0.        ],\n",
      "       [-0.1367626 ,  1.        ,  0.        ]], dtype=float64), 'Separator porosity': Array([[0.00579554, 0.        , 0.        ],\n",
      "       [0.00579554, 0.        , 0.        ],\n",
      "       [0.00579554, 0.        , 0.        ],\n",
      "       [0.00579555, 0.        , 0.        ],\n",
      "       [0.0057956 , 0.        , 0.        ],\n",
      "       [0.00579579, 0.        , 0.        ],\n",
      "       [0.0057961 , 0.        , 0.        ],\n",
      "       [0.00579647, 0.        , 0.        ],\n",
      "       [0.0057974 , 0.        , 0.        ],\n",
      "       [0.00579851, 0.        , 0.        ]], dtype=float64)}\n"
     ]
    },
    {
     "name": "stderr",
     "output_type": "stream",
     "text": [
      "'+ptx86' is not a recognized feature for this target (ignoring feature)\n",
      "'+ptx86' is not a recognized feature for this target (ignoring feature)\n",
      "'+ptx86' is not a recognized feature for this target (ignoring feature)\n",
      "'+ptx86' is not a recognized feature for this target (ignoring feature)\n",
      "'+ptx86' is not a recognized feature for this target (ignoring feature)\n",
      "'+ptx86' is not a recognized feature for this target (ignoring feature)\n",
      "'+ptx86' is not a recognized feature for this target (ignoring feature)\n",
      "'+ptx86' is not a recognized feature for this target (ignoring feature)\n",
      "'+ptx86' is not a recognized feature for this target (ignoring feature)\n",
      "'+ptx86' is not a recognized feature for this target (ignoring feature)\n",
      "'+ptx86' is not a recognized feature for this target (ignoring feature)\n",
      "'+ptx86' is not a recognized feature for this target (ignoring feature)\n",
      "'+ptx86' is not a recognized feature for this target (ignoring feature)\n",
      "'+ptx86' is not a recognized feature for this target (ignoring feature)\n",
      "'+ptx86' is not a recognized feature for this target (ignoring feature)\n",
      "'+ptx86' is not a recognized feature for this target (ignoring feature)\n",
      "'+ptx86' is not a recognized feature for this target (ignoring feature)\n",
      "'+ptx86' is not a recognized feature for this target (ignoring feature)\n",
      "'+ptx86' is not a recognized feature for this target (ignoring feature)\n",
      "'+ptx86' is not a recognized feature for this target (ignoring feature)\n",
      "'+ptx86' is not a recognized feature for this target (ignoring feature)\n",
      "'+ptx86' is not a recognized feature for this target (ignoring feature)\n",
      "'+ptx86' is not a recognized feature for this target (ignoring feature)\n",
      "'+ptx86' is not a recognized feature for this target (ignoring feature)\n",
      "'+ptx86' is not a recognized feature for this target (ignoring feature)\n",
      "'+ptx86' is not a recognized feature for this target (ignoring feature)\n",
      "'+ptx86' is not a recognized feature for this target (ignoring feature)\n",
      "'+ptx86' is not a recognized feature for this target (ignoring feature)\n",
      "'+ptx86' is not a recognized feature for this target (ignoring feature)\n",
      "'+ptx86' is not a recognized feature for this target (ignoring feature)\n"
     ]
    },
    {
     "name": "stdout",
     "output_type": "stream",
     "text": [
      "\n",
      "Jacobian reverse method ran in 1.23 secs\n",
      "{'Current function [A]': Array([[-0.13629603,  1.        ,  0.        ],\n",
      "       [-0.13630352,  1.        ,  0.        ],\n",
      "       [-0.13631101,  1.        ,  0.        ],\n",
      "       [-0.13632595,  1.        ,  0.        ],\n",
      "       [-0.13635572,  1.        ,  0.        ],\n",
      "       [-0.13641497,  1.        ,  0.        ],\n",
      "       [-0.13647369,  1.        ,  0.        ],\n",
      "       [-0.13653216,  1.        ,  0.        ],\n",
      "       [-0.13664787,  1.        ,  0.        ],\n",
      "       [-0.1367626 ,  1.        ,  0.        ]],      dtype=float64, weak_type=True), 'Separator porosity': Array([[0.00579554, 0.        , 0.        ],\n",
      "       [0.00579554, 0.        , 0.        ],\n",
      "       [0.00579554, 0.        , 0.        ],\n",
      "       [0.00579555, 0.        , 0.        ],\n",
      "       [0.0057956 , 0.        , 0.        ],\n",
      "       [0.00579579, 0.        , 0.        ],\n",
      "       [0.0057961 , 0.        , 0.        ],\n",
      "       [0.00579647, 0.        , 0.        ],\n",
      "       [0.0057974 , 0.        , 0.        ],\n",
      "       [0.00579851, 0.        , 0.        ]],      dtype=float64, weak_type=True)}\n"
     ]
    }
   ],
   "source": [
    "# Calculate the Jacobian matrix (via forward autodiff)\n",
    "t_start = time.time()\n",
    "out = jax.jacfwd(f, argnums=1)(t_eval, inputs)\n",
    "print(f\"Jacobian forward method ran in {time.time()-t_start:0.3} secs\")\n",
    "print(out)\n",
    "\n",
    "# Calculate Jacobian matrix (via backward autodiff)\n",
    "t_start = time.time()\n",
    "out = jax.jacrev(f, argnums=1)(t_eval, inputs)\n",
    "print(f\"\\nJacobian reverse method ran in {time.time()-t_start:0.3} secs\")\n",
    "print(out)"
   ]
  },
  {
   "cell_type": "code",
   "execution_count": 12,
   "metadata": {},
   "outputs": [
    {
     "name": "stdout",
     "output_type": "stream",
     "text": [
      "[-0.13629603 -0.13630352 -0.13631101 -0.13632595 -0.13635572 -0.13641497\n",
      " -0.13647369 -0.13653216 -0.13664787 -0.1367626 ]\n"
     ]
    }
   ],
   "source": [
    "# Isolate the derivate of Voltage with respect to the Current function:\n",
    "out = jax.jacfwd(f, argnums=1)(t_eval, inputs)\n",
    "data = jax_solver.get_var(out[\"Current function [A]\"], \"Voltage [V]\")\n",
    "print(data)"
   ]
  },
  {
   "cell_type": "code",
   "execution_count": 13,
   "metadata": {},
   "outputs": [
    {
     "name": "stderr",
     "output_type": "stream",
     "text": [
      "'+ptx86' is not a recognized feature for this target (ignoring feature)\n",
      "'+ptx86' is not a recognized feature for this target (ignoring feature)\n",
      "'+ptx86' is not a recognized feature for this target (ignoring feature)\n",
      "'+ptx86' is not a recognized feature for this target (ignoring feature)\n",
      "'+ptx86' is not a recognized feature for this target (ignoring feature)\n",
      "'+ptx86' is not a recognized feature for this target (ignoring feature)\n",
      "'+ptx86' is not a recognized feature for this target (ignoring feature)\n",
      "'+ptx86' is not a recognized feature for this target (ignoring feature)\n",
      "'+ptx86' is not a recognized feature for this target (ignoring feature)\n",
      "'+ptx86' is not a recognized feature for this target (ignoring feature)\n",
      "'+ptx86' is not a recognized feature for this target (ignoring feature)\n",
      "'+ptx86' is not a recognized feature for this target (ignoring feature)\n",
      "'+ptx86' is not a recognized feature for this target (ignoring feature)\n",
      "'+ptx86' is not a recognized feature for this target (ignoring feature)\n",
      "'+ptx86' is not a recognized feature for this target (ignoring feature)\n",
      "'+ptx86' is not a recognized feature for this target (ignoring feature)\n",
      "'+ptx86' is not a recognized feature for this target (ignoring feature)\n",
      "'+ptx86' is not a recognized feature for this target (ignoring feature)\n",
      "'+ptx86' is not a recognized feature for this target (ignoring feature)\n",
      "'+ptx86' is not a recognized feature for this target (ignoring feature)\n",
      "'+ptx86' is not a recognized feature for this target (ignoring feature)\n"
     ]
    },
    {
     "name": "stdout",
     "output_type": "stream",
     "text": [
      "Gradient method ran in 0.524 secs\n",
      "{'Current function [A]': Array([-0.13629603, -0.13630352, -0.13631101, -0.13632595, -0.13635572,\n",
      "       -0.13641497, -0.13647369, -0.13653216, -0.13664787, -0.1367626 ],      dtype=float64), 'Separator porosity': Array([0.00579554, 0.00579554, 0.00579554, 0.00579555, 0.0057956 ,\n",
      "       0.00579579, 0.0057961 , 0.00579647, 0.0057974 , 0.00579851],      dtype=float64)}\n"
     ]
    },
    {
     "name": "stderr",
     "output_type": "stream",
     "text": [
      "'+ptx86' is not a recognized feature for this target (ignoring feature)\n",
      "'+ptx86' is not a recognized feature for this target (ignoring feature)\n",
      "'+ptx86' is not a recognized feature for this target (ignoring feature)\n"
     ]
    }
   ],
   "source": [
    "# Example evaluation using the `grad` function\n",
    "t_start = time.time()\n",
    "data = jax.vmap(\n",
    "    jax.grad(\n",
    "        jax_solver.get_var(\"Voltage [V]\"),\n",
    "        argnums=1,  # take derivative with respect to `inputs`\n",
    "    ),\n",
    "    in_axes=(0, None),  # map time over the 0th dimension and do not map inputs\n",
    ")(t_eval, inputs)\n",
    "print(f\"Gradient method ran in {time.time()-t_start:0.3} secs\")\n",
    "print(data)"
   ]
  },
  {
   "cell_type": "markdown",
   "metadata": {},
   "source": [
    "# use case example\n",
    "\n",
    "As a use-case example, consider a fitting procedure where we want to compare simulation data against some experimental data. We achieve this by computing the sum-of-squared error (SEE) between the two. Many fitting procedures will converge more quickly (with fewer iterations) if both the value and gradient of the SSE function are provided. By making use of JAX-expressions we can derive these effortlessly.\n",
    "\n",
    "Note: We do not need to map over time when calling value_and_grad in this example as the sse function returns a scalar (despite taking vector inputs)."
   ]
  },
  {
   "cell_type": "code",
   "execution_count": 14,
   "metadata": {},
   "outputs": [
    {
     "name": "stderr",
     "output_type": "stream",
     "text": [
      "'+ptx86' is not a recognized feature for this target (ignoring feature)\n",
      "'+ptx86' is not a recognized feature for this target (ignoring feature)\n",
      "'+ptx86' is not a recognized feature for this target (ignoring feature)\n",
      "'+ptx86' is not a recognized feature for this target (ignoring feature)\n",
      "'+ptx86' is not a recognized feature for this target (ignoring feature)\n",
      "'+ptx86' is not a recognized feature for this target (ignoring feature)\n",
      "'+ptx86' is not a recognized feature for this target (ignoring feature)\n",
      "'+ptx86' is not a recognized feature for this target (ignoring feature)\n",
      "'+ptx86' is not a recognized feature for this target (ignoring feature)\n",
      "'+ptx86' is not a recognized feature for this target (ignoring feature)\n",
      "'+ptx86' is not a recognized feature for this target (ignoring feature)\n",
      "'+ptx86' is not a recognized feature for this target (ignoring feature)\n",
      "'+ptx86' is not a recognized feature for this target (ignoring feature)\n",
      "'+ptx86' is not a recognized feature for this target (ignoring feature)\n",
      "'+ptx86' is not a recognized feature for this target (ignoring feature)\n",
      "'+ptx86' is not a recognized feature for this target (ignoring feature)\n",
      "'+ptx86' is not a recognized feature for this target (ignoring feature)\n",
      "'+ptx86' is not a recognized feature for this target (ignoring feature)\n",
      "'+ptx86' is not a recognized feature for this target (ignoring feature)\n",
      "'+ptx86' is not a recognized feature for this target (ignoring feature)\n",
      "'+ptx86' is not a recognized feature for this target (ignoring feature)\n"
     ]
    },
    {
     "name": "stdout",
     "output_type": "stream",
     "text": [
      "Value and gradient computed in 0.577 secs\n",
      "SSE value:  0.002077049099434896\n",
      "SSE gradient (wrt each input):  {'Current function [A]': array(-0.04099523), 'Separator porosity': array(0.00087822)}\n"
     ]
    }
   ],
   "source": [
    "# Simulate some experimental data using our original parameter settings\n",
    "data = sim[\"Voltage [V]\"](t_eval)\n",
    "\n",
    "\n",
    "# Sum-of-squared errors\n",
    "def sse(t, inputs):\n",
    "    modelled = jax_solver.get_var(\"Voltage [V]\")(t_eval, inputs)\n",
    "    return jnp.sum((modelled - data) ** 2)\n",
    "\n",
    "\n",
    "# Provide some predicted model inputs (these could come from a fitting procedure)\n",
    "inputs_pred = {\n",
    "    \"Current function [A]\": 0.150,\n",
    "    \"Separator porosity\": 0.333,\n",
    "}\n",
    "\n",
    "# Get the value and gradient of the SSE function\n",
    "t_start = time.time()\n",
    "value, gradient = jax.value_and_grad(sse, argnums=1)(t_eval, inputs_pred)\n",
    "print(f\"Value and gradient computed in {time.time()-t_start:0.3} secs\")\n",
    "print(\"SSE value: \", value)\n",
    "print(\"SSE gradient (wrt each input): \", gradient)"
   ]
  },
  {
   "cell_type": "markdown",
   "metadata": {},
   "source": [
    "# getting a parameter, x-avg cell volt\n",
    "\n",
    "this is more so for my own understanding on how the battery simulator api should work when being called to solve for a simulation. right now i dont think it uses output variables but rather simulates all with casadi then filters based on what the user wants... need to double check this.\n",
    "if so i would need to see if i can call output_variables before using any solver so the results you get from the api call are agnostic to unique solvers"
   ]
  },
  {
   "cell_type": "markdown",
   "metadata": {},
   "source": [
    "# DFN simulation"
   ]
  },
  {
   "cell_type": "code",
   "execution_count": 15,
   "metadata": {},
   "outputs": [
    {
     "name": "stdout",
     "output_type": "stream",
     "text": [
      "Simulation is running on: Quadro T2000\n",
      "Simulation took 0.98 seconds.\n",
      "X-averaged cell temperature [C]:\n",
      "[25.         25.01242858 25.0152713  25.01595535 25.0161316  25.0161862\n",
      " 25.01620831 25.01622085 25.01622946 25.0162357 ]\n"
     ]
    }
   ],
   "source": [
    "import pybamm\n",
    "import numpy as np\n",
    "import jax\n",
    "\n",
    "devices = jax.devices()\n",
    "device_type = devices[0].device_kind\n",
    "print(f\"Simulation is running on: {device_type}\")\n",
    "\n",
    "# Define inputs\n",
    "inputs = {\n",
    "    \"Current function [A]\": 0.222,\n",
    "    \"Separator porosity\": 0.3,\n",
    "}\n",
    "\n",
    "# Set-up the model\n",
    "options = {\"cell geometry\": \"arbitrary\", \"thermal\": \"lumped\"}\n",
    "model = pybamm.lithium_ion.DFN(options=options)\n",
    "geometry = model.default_geometry\n",
    "param = model.default_parameter_values\n",
    "param.update({key: \"[input]\" for key in inputs.keys()})\n",
    "param.process_geometry(geometry)\n",
    "param.process_model(model)\n",
    "var = pybamm.standard_spatial_vars\n",
    "var_pts = {var.x_n: 20, var.x_s: 20, var.x_p: 20, var.r_n: 10, var.r_p: 10}\n",
    "mesh = pybamm.Mesh(geometry, model.default_submesh_types, var_pts)\n",
    "disc = pybamm.Discretisation(mesh, model.default_spatial_methods)\n",
    "disc.process_model(model)\n",
    "\n",
    "# Use a short time-vector for this example\n",
    "t_eval = np.linspace(0, 360, 10)\n",
    "\n",
    "# Include the variable of interest in output_variables\n",
    "output_variables = [\n",
    "    \"Voltage [V]\",\n",
    "    \"Current [A]\",\n",
    "    \"Time [min]\",\n",
    "    \"X-averaged cell temperature [C]\" # want to retrieve this and print the output\n",
    "]\n",
    "\n",
    "# Create the IDAKLU Solver object\n",
    "idaklu_solver = pybamm.IDAKLUSolver(rtol=1e-6, atol=1e-6, output_variables=output_variables)\n",
    "\n",
    "start_time = time.time()\n",
    "\n",
    "# Perform the simulation\n",
    "sim = idaklu_solver.solve(\n",
    "    model,\n",
    "    t_eval,\n",
    "    inputs=inputs,\n",
    "    calculate_sensitivities=True,\n",
    ")\n",
    "\n",
    "end_time = time.time()\n",
    "print(f\"Simulation took {end_time - start_time:.2f} seconds.\")\n",
    "\n",
    "# Variable name to extract\n",
    "var_name = \"X-averaged cell temperature [C]\"\n",
    "\n",
    "# Check if the variable is present in the simulation results\n",
    "if var_name not in sim._variables:\n",
    "    print(f\"Variable '{var_name}' not found in the simulation results.\")\n",
    "else:\n",
    "    # Extract the variable from the simulation result\n",
    "    try:\n",
    "        # Evaluate the variable using the simulation result\n",
    "        temp_data = sim[var_name](t_eval)\n",
    "        print(\"X-averaged cell temperature [C]:\")\n",
    "        print(temp_data)\n",
    "    except Exception as e:\n",
    "        print(f\"An error occurred while evaluating the variable: {e}\")"
   ]
  },
  {
   "cell_type": "markdown",
   "metadata": {},
   "source": [
    "# SPM simulation"
   ]
  },
  {
   "cell_type": "code",
   "execution_count": 16,
   "metadata": {},
   "outputs": [
    {
     "name": "stdout",
     "output_type": "stream",
     "text": [
      "Simulation is running on: Quadro T2000\n",
      "Simulation took 0.17 seconds.\n",
      "X-averaged cell temperature [C]:\n",
      "[25.         25.01072713 25.01289727 25.01334668 25.01344455 25.01347274\n",
      " 25.01348601 25.0134948  25.01350122 25.0135058 ]\n"
     ]
    }
   ],
   "source": [
    "import pybamm\n",
    "import numpy as np\n",
    "import jax\n",
    "\n",
    "devices = jax.devices()\n",
    "device_type = devices[0].device_kind\n",
    "print(f\"Simulation is running on: {device_type}\")\n",
    "\n",
    "# Define inputs\n",
    "inputs = {\n",
    "    \"Current function [A]\": 0.222,\n",
    "    \"Separator porosity\": 0.3,\n",
    "}\n",
    "\n",
    "# Set-up the model\n",
    "options = {\"cell geometry\": \"arbitrary\", \"thermal\": \"lumped\"}\n",
    "model = pybamm.lithium_ion.SPM(options=options)\n",
    "geometry = model.default_geometry\n",
    "param = model.default_parameter_values\n",
    "param.update({key: \"[input]\" for key in inputs.keys()})\n",
    "param.process_geometry(geometry)\n",
    "param.process_model(model)\n",
    "var = pybamm.standard_spatial_vars\n",
    "var_pts = {var.x_n: 20, var.x_s: 20, var.x_p: 20, var.r_n: 10, var.r_p: 10}\n",
    "mesh = pybamm.Mesh(geometry, model.default_submesh_types, var_pts)\n",
    "disc = pybamm.Discretisation(mesh, model.default_spatial_methods)\n",
    "disc.process_model(model)\n",
    "\n",
    "# Use a short time-vector for this example\n",
    "t_eval = np.linspace(0, 360, 10)\n",
    "\n",
    "# Include the variable of interest in output_variables\n",
    "output_variables = [\n",
    "    \"Voltage [V]\",\n",
    "    \"Current [A]\",\n",
    "    \"Time [min]\",\n",
    "    \"X-averaged cell temperature [C]\" # want to retrieve this and print the output\n",
    "]\n",
    "\n",
    "# Create the IDAKLU Solver object\n",
    "idaklu_solver = pybamm.IDAKLUSolver(rtol=1e-6, atol=1e-6, output_variables=output_variables)\n",
    "\n",
    "start_time = time.time()\n",
    "\n",
    "# Perform the simulation\n",
    "sim = idaklu_solver.solve(\n",
    "    model,\n",
    "    t_eval,\n",
    "    inputs=inputs,\n",
    "    calculate_sensitivities=True,\n",
    ")\n",
    "\n",
    "end_time = time.time()\n",
    "print(f\"Simulation took {end_time - start_time:.2f} seconds.\")\n",
    "\n",
    "# Variable name to extract\n",
    "var_name = \"X-averaged cell temperature [C]\"\n",
    "\n",
    "# Check if the variable is present in the simulation results\n",
    "if var_name not in sim._variables:\n",
    "    print(f\"Variable '{var_name}' not found in the simulation results.\")\n",
    "else:\n",
    "    # Extract the variable from the simulation result\n",
    "    try:\n",
    "        # Evaluate the variable using the simulation result\n",
    "        temp_data = sim[var_name](t_eval)\n",
    "        print(\"X-averaged cell temperature [C]:\")\n",
    "        print(temp_data)\n",
    "    except Exception as e:\n",
    "        print(f\"An error occurred while evaluating the variable: {e}\")"
   ]
  },
  {
   "cell_type": "markdown",
   "metadata": {},
   "source": [
    "# SPMe Simulation"
   ]
  },
  {
   "cell_type": "code",
   "execution_count": 17,
   "metadata": {},
   "outputs": [
    {
     "name": "stdout",
     "output_type": "stream",
     "text": [
      "Simulation is running on: Quadro T2000\n",
      "Simulation took 0.68 seconds.\n",
      "X-averaged cell temperature [C]:\n",
      "[25.         25.01253857 25.01545068 25.01616518 25.0163572  25.01641667\n",
      " 25.01643949 25.0164513  25.01645871 25.0164637 ]\n"
     ]
    }
   ],
   "source": [
    "import pybamm\n",
    "import numpy as np\n",
    "import jax\n",
    "\n",
    "devices = jax.devices()\n",
    "device_type = devices[0].device_kind\n",
    "print(f\"Simulation is running on: {device_type}\")\n",
    "\n",
    "# Define inputs\n",
    "inputs = {\n",
    "    \"Current function [A]\": 0.222,\n",
    "    \"Separator porosity\": 0.3,\n",
    "}\n",
    "\n",
    "# Set-up the model\n",
    "options = {\"cell geometry\": \"arbitrary\", \"thermal\": \"lumped\"}\n",
    "model = pybamm.lithium_ion.SPMe(options=options)\n",
    "geometry = model.default_geometry\n",
    "param = model.default_parameter_values\n",
    "param.update({key: \"[input]\" for key in inputs.keys()})\n",
    "param.process_geometry(geometry)\n",
    "param.process_model(model)\n",
    "var = pybamm.standard_spatial_vars\n",
    "var_pts = {var.x_n: 20, var.x_s: 20, var.x_p: 20, var.r_n: 10, var.r_p: 10}\n",
    "mesh = pybamm.Mesh(geometry, model.default_submesh_types, var_pts)\n",
    "disc = pybamm.Discretisation(mesh, model.default_spatial_methods)\n",
    "disc.process_model(model)\n",
    "\n",
    "# Use a short time-vector for this example\n",
    "t_eval = np.linspace(0, 360, 10)\n",
    "\n",
    "# Include the variable of interest in output_variables\n",
    "output_variables = [\n",
    "    \"Voltage [V]\",\n",
    "    \"Current [A]\",\n",
    "    \"Time [min]\",\n",
    "    \"X-averaged cell temperature [C]\" # want to retrieve this and print the output\n",
    "]\n",
    "\n",
    "# Create the IDAKLU Solver object\n",
    "idaklu_solver = pybamm.IDAKLUSolver(rtol=1e-6, atol=1e-6, output_variables=output_variables)\n",
    "\n",
    "start_time = time.time()\n",
    "\n",
    "# Perform the simulation\n",
    "sim = idaklu_solver.solve(\n",
    "    model,\n",
    "    t_eval,\n",
    "    inputs=inputs,\n",
    "    calculate_sensitivities=True,\n",
    ")\n",
    "\n",
    "end_time = time.time()\n",
    "print(f\"Simulation took {end_time - start_time:.2f} seconds.\")\n",
    "\n",
    "# Variable name to extract\n",
    "var_name = \"X-averaged cell temperature [C]\"\n",
    "\n",
    "# Check if the variable is present in the simulation results\n",
    "if var_name not in sim._variables:\n",
    "    print(f\"Variable '{var_name}' not found in the simulation results.\")\n",
    "else:\n",
    "    # Extract the variable from the simulation result\n",
    "    try:\n",
    "        # Evaluate the variable using the simulation result\n",
    "        temp_data = sim[var_name](t_eval)\n",
    "        print(\"X-averaged cell temperature [C]:\")\n",
    "        print(temp_data)\n",
    "    except Exception as e:\n",
    "        print(f\"An error occurred while evaluating the variable: {e}\")"
   ]
  },
  {
   "cell_type": "code",
   "execution_count": null,
   "metadata": {},
   "outputs": [],
   "source": []
  },
  {
   "cell_type": "code",
   "execution_count": null,
   "metadata": {},
   "outputs": [],
   "source": []
  },
  {
   "cell_type": "code",
   "execution_count": null,
   "metadata": {},
   "outputs": [],
   "source": []
  }
 ],
 "metadata": {
  "kernelspec": {
   "display_name": "Python 3",
   "language": "python",
   "name": "python3"
  },
  "language_info": {
   "codemirror_mode": {
    "name": "ipython",
    "version": 3
   },
   "file_extension": ".py",
   "mimetype": "text/x-python",
   "name": "python",
   "nbconvert_exporter": "python",
   "pygments_lexer": "ipython3",
   "version": "3.10.12"
  }
 },
 "nbformat": 4,
 "nbformat_minor": 2
}
