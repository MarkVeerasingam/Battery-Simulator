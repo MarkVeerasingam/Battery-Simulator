{
 "cells": [
  {
   "cell_type": "code",
   "execution_count": 40,
   "metadata": {},
   "outputs": [],
   "source": [
    "import pybamm\n",
    "import time\n",
    "import numpy as np\n",
    "import jax\n",
    "import jax.numpy as jnp"
   ]
  },
  {
   "cell_type": "code",
   "execution_count": 41,
   "metadata": {},
   "outputs": [
    {
     "name": "stdout",
     "output_type": "stream",
     "text": [
      "Available devices: [cuda(id=0)]\n"
     ]
    }
   ],
   "source": [
    "# 1) pip install \"pybamm[iree,jax]\"  \n",
    "# 2) then install after \"pip install jax[cuda12]\" - this upgrades jax to support CUDA12\n",
    "print(\"Available devices:\", jax.devices())"
   ]
  },
  {
   "cell_type": "code",
   "execution_count": 42,
   "metadata": {},
   "outputs": [
    {
     "name": "stderr",
     "output_type": "stream",
     "text": [
      "2024-09-05 13:40:11.384 - [INFO] base_model._build_model(777): Start building Doyle-Fuller-Newman model\n",
      "2024-09-05 13:40:11.481 - [INFO] base_battery_model.build_model(1042): Finish building Doyle-Fuller-Newman model\n",
      "2024-09-05 13:40:11.487 - [INFO] parameter_values.process_model(440): Start setting parameters for Doyle-Fuller-Newman model\n",
      "2024-09-05 13:40:11.805 - [INFO] parameter_values.process_model(509): Finish setting parameters for Doyle-Fuller-Newman model\n",
      "2024-09-05 13:40:11.809 - [INFO] discretisation.process_model(149): Start discretising Doyle-Fuller-Newman model\n",
      "2024-09-05 13:40:12.997 - [INFO] discretisation.process_model(251): Finish discretising Doyle-Fuller-Newman model\n"
     ]
    }
   ],
   "source": [
    "# We will want to differentiate our model, so let's define two input parameters\n",
    "inputs = {\n",
    "    \"Current function [A]\": 0.222,\n",
    "    \"Separator porosity\": 0.3,\n",
    "    \n",
    "}\n",
    "\n",
    "# Set-up the model\n",
    "options = {\"cell geometry\": \"arbitrary\", \"thermal\": \"lumped\"}\n",
    "model = pybamm.lithium_ion.DFN(options=options)\n",
    "geometry = model.default_geometry\n",
    "param = model.default_parameter_values\n",
    "param.update({key: \"[input]\" for key in inputs.keys()})\n",
    "param.process_geometry(geometry)\n",
    "param.process_model(model)\n",
    "var = pybamm.standard_spatial_vars\n",
    "var_pts = {var.x_n: 20, var.x_s: 20, var.x_p: 20, var.r_n: 10, var.r_p: 10}\n",
    "mesh = pybamm.Mesh(geometry, model.default_submesh_types, var_pts)\n",
    "disc = pybamm.Discretisation(mesh, model.default_spatial_methods)\n",
    "disc.process_model(model)\n",
    "\n",
    "# Use a short time-vector for this example, and declare which variables to track\n",
    "t_eval = np.linspace(0, 360, 10)\n",
    "output_variables = [\n",
    "    \"Voltage [V]\",\n",
    "    \"Current [A]\",\n",
    "    \"Time [min]\",\n",
    "]\n",
    "\n",
    "# Create the IDAKLU Solver object\n",
    "idaklu_solver = pybamm.IDAKLUSolver(\n",
    "    rtol=1e-6,\n",
    "    atol=1e-6,\n",
    "    output_variables=output_variables,\n",
    ")"
   ]
  },
  {
   "cell_type": "code",
   "execution_count": 43,
   "metadata": {},
   "outputs": [
    {
     "name": "stderr",
     "output_type": "stream",
     "text": [
      "2024-09-05 13:40:13.095 - [INFO] base_solver.solve(744): Start solving Doyle-Fuller-Newman model with IDA KLU solver\n",
      "2024-09-05 13:40:13.108 - [INFO] base_solver.set_up(117): Start solver set-up\n",
      "2024-09-05 13:40:13.718 - [INFO] base_solver.set_up(286): Finish solver set-up\n",
      "2024-09-05 13:40:14.271 - [INFO] base_solver.solve(974): Finish solving Doyle-Fuller-Newman model (the solver successfully reached the end of the integration interval)\n",
      "2024-09-05 13:40:14.272 - [INFO] base_solver.solve(975): Set-up time: 948.131 ms, Solve time: 214.875 ms (of which integration time: 195.557 ms), Total time: 1.163 s\n"
     ]
    },
    {
     "name": "stdout",
     "output_type": "stream",
     "text": [
      "JAX expression: <function IDAKLUJax._jaxify.<locals>.f at 0x7f2cf5e00040>\n"
     ]
    }
   ],
   "source": [
    "# This is how we would normally perform a solve using IDAKLU\n",
    "sim = idaklu_solver.solve(\n",
    "    model,\n",
    "    t_eval,\n",
    "    inputs=inputs,\n",
    "    calculate_sensitivities=True,\n",
    ")\n",
    "\n",
    "# Instead, we Jaxify the IDAKLU solver using similar arguments...\n",
    "jax_solver = idaklu_solver.jaxify(\n",
    "    model,\n",
    "    t_eval,\n",
    ")\n",
    "\n",
    "# ... and then obtain a JAX expression for the solve\n",
    "f = jax_solver.get_jaxpr()\n",
    "print(f\"JAX expression: {f}\")"
   ]
  },
  {
   "cell_type": "code",
   "execution_count": 44,
   "metadata": {},
   "outputs": [
    {
     "name": "stderr",
     "output_type": "stream",
     "text": [
      "2024-09-05 13:40:14.478 - [INFO] base_solver.solve(744): Start solving Doyle-Fuller-Newman model with IDA KLU solver\n",
      "2024-09-05 13:40:14.750 - [INFO] base_solver.solve(974): Finish solving Doyle-Fuller-Newman model (the solver successfully reached the end of the integration interval)\n",
      "2024-09-05 13:40:14.752 - [INFO] base_solver.solve(975): Set-up time: 21.600 us, Solve time: 269.374 ms (of which integration time: 249.928 ms), Total time: 269.396 ms\n"
     ]
    },
    {
     "name": "stdout",
     "output_type": "stream",
     "text": [
      "JAX expression: <function IDAKLUJax._jaxify.<locals>.f at 0x7f2cf5e000d0>\n"
     ]
    }
   ],
   "source": [
    "# This is how we would normally perform a solve using IDAKLU\n",
    "sim = idaklu_solver.solve(\n",
    "    model,\n",
    "    t_eval,\n",
    "    inputs=inputs,\n",
    "    calculate_sensitivities=True,\n",
    ")\n",
    "\n",
    "# Instead, we Jaxify the IDAKLU solver using similar arguments...\n",
    "jax_solver = idaklu_solver.jaxify(\n",
    "    model,\n",
    "    t_eval,\n",
    ")\n",
    "\n",
    "# ... and then obtain a JAX expression for the solve\n",
    "f = jax_solver.get_jaxpr()\n",
    "print(f\"JAX expression: {f}\")"
   ]
  },
  {
   "cell_type": "code",
   "execution_count": 45,
   "metadata": {},
   "outputs": [
    {
     "name": "stderr",
     "output_type": "stream",
     "text": [
      "2024-09-05 13:40:14.842 - [INFO] base_solver.solve(744): Start solving Doyle-Fuller-Newman model with IDA KLU solver\n"
     ]
    },
    {
     "name": "stderr",
     "output_type": "stream",
     "text": [
      "2024-09-05 13:40:15.092 - [INFO] base_solver.solve(974): Finish solving Doyle-Fuller-Newman model (the solver successfully reached the end of the integration interval)\n",
      "2024-09-05 13:40:15.093 - [INFO] base_solver.solve(975): Set-up time: 10.600 us, Solve time: 248.289 ms (of which integration time: 228.796 ms), Total time: 248.300 ms\n"
     ]
    },
    {
     "name": "stdout",
     "output_type": "stream",
     "text": [
      "[[3.81933939e+000 2.22000000e-001 1.15148226e-311]\n",
      " [3.81351212e+000 2.22000000e-001 6.66666667e-001]\n",
      " [3.81085763e+000 2.22000000e-001 1.33333333e+000]\n",
      " [3.80891360e+000 2.22000000e-001 2.00000000e+000]\n",
      " [3.80720490e+000 2.22000000e-001 2.66666667e+000]\n",
      " [3.80558327e+000 2.22000000e-001 3.33333333e+000]\n",
      " [3.80399869e+000 2.22000000e-001 4.00000000e+000]\n",
      " [3.80243297e+000 2.22000000e-001 4.66666667e+000]\n",
      " [3.80087903e+000 2.22000000e-001 5.33333333e+000]\n",
      " [3.79933426e+000 2.22000000e-001 6.00000000e+000]]\n"
     ]
    }
   ],
   "source": [
    "# Print all output variables, evaluated over a given time vector\n",
    "data = f(t_eval, inputs)\n",
    "print(data)"
   ]
  },
  {
   "cell_type": "code",
   "execution_count": 46,
   "metadata": {},
   "outputs": [
    {
     "name": "stdout",
     "output_type": "stream",
     "text": [
      "Isolating a single variable returns an array of shape (10,)\n",
      "[3.81933939 3.81351212 3.81085763 3.8089136  3.8072049  3.80558327\n",
      " 3.80399869 3.80243297 3.80087903 3.79933426]\n",
      "\n",
      "Isolating two variables returns an array of shape (10, 2)\n",
      "[[3.81933939 0.222     ]\n",
      " [3.81351212 0.222     ]\n",
      " [3.81085763 0.222     ]\n",
      " [3.8089136  0.222     ]\n",
      " [3.8072049  0.222     ]\n",
      " [3.80558327 0.222     ]\n",
      " [3.80399869 0.222     ]\n",
      " [3.80243297 0.222     ]\n",
      " [3.80087903 0.222     ]\n",
      " [3.79933426 0.222     ]]\n"
     ]
    }
   ],
   "source": [
    "# Isolate a single variables\n",
    "data = jax_solver.get_var(\"Voltage [V]\")(t_eval, inputs)\n",
    "print(f\"Isolating a single variable returns an array of shape {data.shape}\")\n",
    "print(data)\n",
    "\n",
    "# Isolate two variables from the solver\n",
    "data = jax_solver.get_vars(\n",
    "    [\n",
    "        \"Voltage [V]\",\n",
    "        \"Current [A]\",\n",
    "    ],\n",
    ")(t_eval, inputs)\n",
    "print(f\"\\nIsolating two variables returns an array of shape {data.shape}\")\n",
    "print(data)"
   ]
  },
  {
   "cell_type": "code",
   "execution_count": 47,
   "metadata": {},
   "outputs": [
    {
     "name": "stdout",
     "output_type": "stream",
     "text": [
      "Jacobian forward method ran in 0.116 secs\n",
      "{'Current function [A]': Array([[-0.13629603,  1.        ,  0.        ],\n",
      "       [-0.16363422,  1.        ,  0.        ],\n",
      "       [-0.17585803,  1.        ,  0.        ],\n",
      "       [-0.18462944,  1.        ,  0.        ],\n",
      "       [-0.19225735,  1.        ,  0.        ],\n",
      "       [-0.19945328,  1.        ,  0.        ],\n",
      "       [-0.20644869,  1.        ,  0.        ],\n",
      "       [-0.21332169,  1.        ,  0.        ],\n",
      "       [-0.22009827,  1.        ,  0.        ],\n",
      "       [-0.22678395,  1.        ,  0.        ]], dtype=float64), 'Separator porosity': Array([[0.00579553, 0.        , 0.        ],\n",
      "       [0.00796344, 0.        , 0.        ],\n",
      "       [0.00951735, 0.        , 0.        ],\n",
      "       [0.01023533, 0.        , 0.        ],\n",
      "       [0.01052245, 0.        , 0.        ],\n",
      "       [0.01063035, 0.        , 0.        ],\n",
      "       [0.01067032, 0.        , 0.        ],\n",
      "       [0.01068552, 0.        , 0.        ],\n",
      "       [0.01069203, 0.        , 0.        ],\n",
      "       [0.01069544, 0.        , 0.        ]], dtype=float64)}\n",
      "\n",
      "Jacobian reverse method ran in 1.53 secs\n",
      "{'Current function [A]': Array([[-0.13629603,  1.        ,  0.        ],\n",
      "       [-0.16363422,  1.        ,  0.        ],\n",
      "       [-0.17585803,  1.        ,  0.        ],\n",
      "       [-0.18462944,  1.        ,  0.        ],\n",
      "       [-0.19225735,  1.        ,  0.        ],\n",
      "       [-0.19945328,  1.        ,  0.        ],\n",
      "       [-0.20644869,  1.        ,  0.        ],\n",
      "       [-0.21332169,  1.        ,  0.        ],\n",
      "       [-0.22009827,  1.        ,  0.        ],\n",
      "       [-0.22678395,  1.        ,  0.        ]],      dtype=float64, weak_type=True), 'Separator porosity': Array([[0.00579553, 0.        , 0.        ],\n",
      "       [0.00796344, 0.        , 0.        ],\n",
      "       [0.00951735, 0.        , 0.        ],\n",
      "       [0.01023533, 0.        , 0.        ],\n",
      "       [0.01052245, 0.        , 0.        ],\n",
      "       [0.01063035, 0.        , 0.        ],\n",
      "       [0.01067032, 0.        , 0.        ],\n",
      "       [0.01068552, 0.        , 0.        ],\n",
      "       [0.01069203, 0.        , 0.        ],\n",
      "       [0.01069544, 0.        , 0.        ]],      dtype=float64, weak_type=True)}\n"
     ]
    }
   ],
   "source": [
    "# Calculate the Jacobian matrix (via forward autodiff)\n",
    "t_start = time.time()\n",
    "out = jax.jacfwd(f, argnums=1)(t_eval, inputs)\n",
    "print(f\"Jacobian forward method ran in {time.time()-t_start:0.3} secs\")\n",
    "print(out)\n",
    "\n",
    "# Calculate Jacobian matrix (via backward autodiff)\n",
    "t_start = time.time()\n",
    "out = jax.jacrev(f, argnums=1)(t_eval, inputs)\n",
    "print(f\"\\nJacobian reverse method ran in {time.time()-t_start:0.3} secs\")\n",
    "print(out)"
   ]
  },
  {
   "cell_type": "code",
   "execution_count": 48,
   "metadata": {},
   "outputs": [
    {
     "name": "stdout",
     "output_type": "stream",
     "text": [
      "[-0.13629603 -0.16363422 -0.17585803 -0.18462944 -0.19225735 -0.19945328\n",
      " -0.20644869 -0.21332169 -0.22009827 -0.22678395]\n"
     ]
    }
   ],
   "source": [
    "# Isolate the derivate of Voltage with respect to the Current function:\n",
    "out = jax.jacfwd(f, argnums=1)(t_eval, inputs)\n",
    "data = jax_solver.get_var(out[\"Current function [A]\"], \"Voltage [V]\")\n",
    "print(data)"
   ]
  },
  {
   "cell_type": "code",
   "execution_count": 49,
   "metadata": {},
   "outputs": [
    {
     "name": "stdout",
     "output_type": "stream",
     "text": [
      "Gradient method ran in 0.632 secs\n",
      "{'Current function [A]': Array([-0.13629603, -0.16363422, -0.17585803, -0.18462944, -0.19225735,\n",
      "       -0.19945328, -0.20644869, -0.21332169, -0.22009827, -0.22678395],      dtype=float64), 'Separator porosity': Array([0.00579553, 0.00796344, 0.00951735, 0.01023533, 0.01052245,\n",
      "       0.01063035, 0.01067032, 0.01068552, 0.01069203, 0.01069544],      dtype=float64)}\n"
     ]
    }
   ],
   "source": [
    "# Example evaluation using the `grad` function\n",
    "t_start = time.time()\n",
    "data = jax.vmap(\n",
    "    jax.grad(\n",
    "        jax_solver.get_var(\"Voltage [V]\"),\n",
    "        argnums=1,  # take derivative with respect to `inputs`\n",
    "    ),\n",
    "    in_axes=(0, None),  # map time over the 0th dimension and do not map inputs\n",
    ")(t_eval, inputs)\n",
    "print(f\"Gradient method ran in {time.time()-t_start:0.3} secs\")\n",
    "print(data)"
   ]
  },
  {
   "cell_type": "markdown",
   "metadata": {},
   "source": [
    "# use case example\n",
    "\n",
    "As a use-case example, consider a fitting procedure where we want to compare simulation data against some experimental data. We achieve this by computing the sum-of-squared error (SEE) between the two. Many fitting procedures will converge more quickly (with fewer iterations) if both the value and gradient of the SSE function are provided. By making use of JAX-expressions we can derive these effortlessly.\n",
    "\n",
    "Note: We do not need to map over time when calling value_and_grad in this example as the sse function returns a scalar (despite taking vector inputs)."
   ]
  },
  {
   "cell_type": "code",
   "execution_count": 50,
   "metadata": {},
   "outputs": [
    {
     "name": "stderr",
     "output_type": "stream",
     "text": [
      "2024-09-05 13:40:23.558 - [INFO] base_solver.solve(744): Start solving Doyle-Fuller-Newman model with IDA KLU solver\n",
      "2024-09-05 13:40:23.986 - [INFO] base_solver.solve(974): Finish solving Doyle-Fuller-Newman model (the solver successfully reached the end of the integration interval)\n",
      "2024-09-05 13:40:24.002 - [INFO] base_solver.solve(975): Set-up time: 15.901 us, Solve time: 425.674 ms (of which integration time: 391.195 ms), Total time: 425.690 ms\n",
      "'+ptx86' is not a recognized feature for this target (ignoring feature)\n",
      "'+ptx86' is not a recognized feature for this target (ignoring feature)\n",
      "'+ptx86' is not a recognized feature for this target (ignoring feature)\n",
      "'+ptx86' is not a recognized feature for this target (ignoring feature)\n",
      "'+ptx86' is not a recognized feature for this target (ignoring feature)\n",
      "'+ptx86' is not a recognized feature for this target (ignoring feature)\n",
      "'+ptx86' is not a recognized feature for this target (ignoring feature)\n",
      "'+ptx86' is not a recognized feature for this target (ignoring feature)\n",
      "'+ptx86' is not a recognized feature for this target (ignoring feature)\n",
      "'+ptx86' is not a recognized feature for this target (ignoring feature)\n",
      "'+ptx86' is not a recognized feature for this target (ignoring feature)\n",
      "'+ptx86' is not a recognized feature for this target (ignoring feature)\n",
      "'+ptx86' is not a recognized feature for this target (ignoring feature)\n",
      "'+ptx86' is not a recognized feature for this target (ignoring feature)\n",
      "'+ptx86' is not a recognized feature for this target (ignoring feature)\n"
     ]
    },
    {
     "name": "stdout",
     "output_type": "stream",
     "text": [
      "Value and gradient computed in 1.24 secs\n",
      "SSE value:  0.0020770188284553034\n",
      "SSE gradient (wrt each input):  {'Current function [A]': array(-0.05756411), 'Separator porosity': array(0.00146621)}\n"
     ]
    },
    {
     "name": "stderr",
     "output_type": "stream",
     "text": [
      "'+ptx86' is not a recognized feature for this target (ignoring feature)\n",
      "'+ptx86' is not a recognized feature for this target (ignoring feature)\n",
      "'+ptx86' is not a recognized feature for this target (ignoring feature)\n",
      "'+ptx86' is not a recognized feature for this target (ignoring feature)\n",
      "'+ptx86' is not a recognized feature for this target (ignoring feature)\n",
      "'+ptx86' is not a recognized feature for this target (ignoring feature)\n"
     ]
    }
   ],
   "source": [
    "# Simulate some experimental data using our original parameter settings\n",
    "data = sim[\"Voltage [V]\"](t_eval)\n",
    "\n",
    "\n",
    "# Sum-of-squared errors\n",
    "def sse(t, inputs):\n",
    "    modelled = jax_solver.get_var(\"Voltage [V]\")(t_eval, inputs)\n",
    "    return jnp.sum((modelled - data) ** 2)\n",
    "\n",
    "\n",
    "# Provide some predicted model inputs (these could come from a fitting procedure)\n",
    "inputs_pred = {\n",
    "    \"Current function [A]\": 0.150,\n",
    "    \"Separator porosity\": 0.333,\n",
    "}\n",
    "\n",
    "# Get the value and gradient of the SSE function\n",
    "t_start = time.time()\n",
    "value, gradient = jax.value_and_grad(sse, argnums=1)(t_eval, inputs_pred)\n",
    "print(f\"Value and gradient computed in {time.time()-t_start:0.3} secs\")\n",
    "print(\"SSE value: \", value)\n",
    "print(\"SSE gradient (wrt each input): \", gradient)"
   ]
  },
  {
   "cell_type": "markdown",
   "metadata": {},
   "source": [
    "# getting a parameter, x-avg cell volt\n",
    "\n",
    "this is more so for my own understanding on how the battery simulator api should work when being called to solve for a simulation. right now i dont think it uses output variables but rather simulates all with casadi then filters based on what the user wants... need to double check this.\n",
    "if so i would need to see if i can call output_variables before using any solver so the results you get from the api call are agnostic to unique solvers"
   ]
  },
  {
   "cell_type": "markdown",
   "metadata": {},
   "source": [
    "# DFN simulation"
   ]
  },
  {
   "cell_type": "code",
   "execution_count": 51,
   "metadata": {},
   "outputs": [
    {
     "name": "stderr",
     "output_type": "stream",
     "text": [
      "2024-09-05 13:40:25.062 - [INFO] base_model._build_model(777): Start building Doyle-Fuller-Newman model\n",
      "2024-09-05 13:40:25.161 - [INFO] base_battery_model.build_model(1042): Finish building Doyle-Fuller-Newman model\n",
      "2024-09-05 13:40:25.167 - [INFO] parameter_values.process_model(440): Start setting parameters for Doyle-Fuller-Newman model\n",
      "2024-09-05 13:40:25.425 - [INFO] parameter_values.process_model(509): Finish setting parameters for Doyle-Fuller-Newman model\n",
      "2024-09-05 13:40:25.436 - [INFO] discretisation.process_model(149): Start discretising Doyle-Fuller-Newman model\n",
      "2024-09-05 13:40:26.611 - [INFO] discretisation.process_model(251): Finish discretising Doyle-Fuller-Newman model\n",
      "2024-09-05 13:40:26.614 - [INFO] base_solver.solve(744): Start solving Doyle-Fuller-Newman model with IDA KLU solver\n",
      "2024-09-05 13:40:26.627 - [INFO] base_solver.set_up(117): Start solver set-up\n",
      "2024-09-05 13:40:27.383 - [INFO] base_solver.set_up(286): Finish solver set-up\n",
      "2024-09-05 13:40:28.086 - [INFO] base_solver.solve(974): Finish solving Doyle-Fuller-Newman model (the solver successfully reached the end of the integration interval)\n",
      "2024-09-05 13:40:28.087 - [INFO] base_solver.solve(975): Set-up time: 1.197 s, Solve time: 262.056 ms (of which integration time: 226.310 ms), Total time: 1.459 s\n"
     ]
    },
    {
     "name": "stdout",
     "output_type": "stream",
     "text": [
      "Simulation took 1.48 seconds.\n",
      "X-averaged cell temperature [C]:\n",
      "[25.         25.01242858 25.01527114 25.01595353 25.01613004 25.01618514\n",
      " 25.01620802 25.01622075 25.01622949 25.01623572]\n"
     ]
    }
   ],
   "source": [
    "import pybamm\n",
    "import numpy as np\n",
    "\n",
    "# Define inputs\n",
    "inputs = {\n",
    "    \"Current function [A]\": 0.222,\n",
    "    \"Separator porosity\": 0.3,\n",
    "}\n",
    "\n",
    "# Set-up the model\n",
    "options = {\"cell geometry\": \"arbitrary\", \"thermal\": \"lumped\"}\n",
    "model = pybamm.lithium_ion.DFN(options=options)\n",
    "geometry = model.default_geometry\n",
    "param = model.default_parameter_values\n",
    "param.update({key: \"[input]\" for key in inputs.keys()})\n",
    "param.process_geometry(geometry)\n",
    "param.process_model(model)\n",
    "var = pybamm.standard_spatial_vars\n",
    "var_pts = {var.x_n: 20, var.x_s: 20, var.x_p: 20, var.r_n: 10, var.r_p: 10}\n",
    "mesh = pybamm.Mesh(geometry, model.default_submesh_types, var_pts)\n",
    "disc = pybamm.Discretisation(mesh, model.default_spatial_methods)\n",
    "disc.process_model(model)\n",
    "\n",
    "# Use a short time-vector for this example\n",
    "t_eval = np.linspace(0, 360, 10)\n",
    "\n",
    "# Include the variable of interest in output_variables\n",
    "output_variables = [\n",
    "    \"Voltage [V]\",\n",
    "    \"Current [A]\",\n",
    "    \"Time [min]\",\n",
    "    \"X-averaged cell temperature [C]\" # want to retrieve this and print the output\n",
    "]\n",
    "\n",
    "# Create the IDAKLU Solver object\n",
    "idaklu_solver = pybamm.IDAKLUSolver(rtol=1e-6, atol=1e-6, output_variables=output_variables)\n",
    "\n",
    "start_time = time.time()\n",
    "\n",
    "# Perform the simulation\n",
    "sim = idaklu_solver.solve(\n",
    "    model,\n",
    "    t_eval,\n",
    "    inputs=inputs,\n",
    "    calculate_sensitivities=True,\n",
    ")\n",
    "\n",
    "end_time = time.time()\n",
    "print(f\"Simulation took {end_time - start_time:.2f} seconds.\")\n",
    "\n",
    "# Variable name to extract\n",
    "var_name = \"X-averaged cell temperature [C]\"\n",
    "\n",
    "# Check if the variable is present in the simulation results\n",
    "if var_name not in sim._variables:\n",
    "    print(f\"Variable '{var_name}' not found in the simulation results.\")\n",
    "else:\n",
    "    # Extract the variable from the simulation result\n",
    "    try:\n",
    "        # Evaluate the variable using the simulation result\n",
    "        temp_data = sim[var_name](t_eval)\n",
    "        print(\"X-averaged cell temperature [C]:\")\n",
    "        print(temp_data)\n",
    "    except Exception as e:\n",
    "        print(f\"An error occurred while evaluating the variable: {e}\")"
   ]
  },
  {
   "cell_type": "markdown",
   "metadata": {},
   "source": [
    "# SPM simulation"
   ]
  },
  {
   "cell_type": "code",
   "execution_count": null,
   "metadata": {},
   "outputs": [
    {
     "name": "stdout",
     "output_type": "stream",
     "text": [
      "Simulation took 0.12 seconds.\n",
      "X-averaged cell temperature [C]:\n",
      "[25.         25.01072713 25.01289727 25.01334668 25.01344455 25.01347274\n",
      " 25.01348601 25.0134948  25.01350122 25.0135058 ]\n"
     ]
    }
   ],
   "source": [
    "import pybamm\n",
    "import numpy as np\n",
    "\n",
    "# Define inputs\n",
    "inputs = {\n",
    "    \"Current function [A]\": 0.222,\n",
    "    \"Separator porosity\": 0.3,\n",
    "}\n",
    "\n",
    "# Set-up the model\n",
    "options = {\"cell geometry\": \"arbitrary\", \"thermal\": \"lumped\"}\n",
    "model = pybamm.lithium_ion.SPM(options=options)\n",
    "geometry = model.default_geometry\n",
    "param = model.default_parameter_values\n",
    "param.update({key: \"[input]\" for key in inputs.keys()})\n",
    "param.process_geometry(geometry)\n",
    "param.process_model(model)\n",
    "var = pybamm.standard_spatial_vars\n",
    "var_pts = {var.x_n: 20, var.x_s: 20, var.x_p: 20, var.r_n: 10, var.r_p: 10}\n",
    "mesh = pybamm.Mesh(geometry, model.default_submesh_types, var_pts)\n",
    "disc = pybamm.Discretisation(mesh, model.default_spatial_methods)\n",
    "disc.process_model(model)\n",
    "\n",
    "# Use a short time-vector for this example\n",
    "t_eval = np.linspace(0, 360, 10)\n",
    "\n",
    "# Include the variable of interest in output_variables\n",
    "output_variables = [\n",
    "    \"Voltage [V]\",\n",
    "    \"Current [A]\",\n",
    "    \"Time [min]\",\n",
    "    \"X-averaged cell temperature [C]\" # want to retrieve this and print the output\n",
    "]\n",
    "\n",
    "# Create the IDAKLU Solver object\n",
    "idaklu_solver = pybamm.IDAKLUSolver(rtol=1e-6, atol=1e-6, output_variables=output_variables)\n",
    "\n",
    "start_time = time.time()\n",
    "\n",
    "# Perform the simulation\n",
    "sim = idaklu_solver.solve(\n",
    "    model,\n",
    "    t_eval,\n",
    "    inputs=inputs,\n",
    "    calculate_sensitivities=True,\n",
    ")\n",
    "\n",
    "end_time = time.time()\n",
    "print(f\"Simulation took {end_time - start_time:.2f} seconds.\")\n",
    "\n",
    "# Variable name to extract\n",
    "var_name = \"X-averaged cell temperature [C]\"\n",
    "\n",
    "# Check if the variable is present in the simulation results\n",
    "if var_name not in sim._variables:\n",
    "    print(f\"Variable '{var_name}' not found in the simulation results.\")\n",
    "else:\n",
    "    # Extract the variable from the simulation result\n",
    "    try:\n",
    "        # Evaluate the variable using the simulation result\n",
    "        temp_data = sim[var_name](t_eval)\n",
    "        print(\"X-averaged cell temperature [C]:\")\n",
    "        print(temp_data)\n",
    "    except Exception as e:\n",
    "        print(f\"An error occurred while evaluating the variable: {e}\")"
   ]
  },
  {
   "cell_type": "markdown",
   "metadata": {},
   "source": [
    "# SPMe Simulation"
   ]
  },
  {
   "cell_type": "code",
   "execution_count": null,
   "metadata": {},
   "outputs": [
    {
     "name": "stdout",
     "output_type": "stream",
     "text": [
      "Simulation took 0.51 seconds.\n",
      "X-averaged cell temperature [C]:\n",
      "[25.         25.01253857 25.01545068 25.01616518 25.0163572  25.01641667\n",
      " 25.01643949 25.0164513  25.01645871 25.0164637 ]\n"
     ]
    }
   ],
   "source": [
    "import pybamm\n",
    "import numpy as np\n",
    "\n",
    "# Define inputs\n",
    "inputs = {\n",
    "    \"Current function [A]\": 0.222,\n",
    "    \"Separator porosity\": 0.3,\n",
    "}\n",
    "\n",
    "# Set-up the model\n",
    "options = {\"cell geometry\": \"arbitrary\", \"thermal\": \"lumped\"}\n",
    "model = pybamm.lithium_ion.SPMe(options=options)\n",
    "geometry = model.default_geometry\n",
    "param = model.default_parameter_values\n",
    "param.update({key: \"[input]\" for key in inputs.keys()})\n",
    "param.process_geometry(geometry)\n",
    "param.process_model(model)\n",
    "var = pybamm.standard_spatial_vars\n",
    "var_pts = {var.x_n: 20, var.x_s: 20, var.x_p: 20, var.r_n: 10, var.r_p: 10}\n",
    "mesh = pybamm.Mesh(geometry, model.default_submesh_types, var_pts)\n",
    "disc = pybamm.Discretisation(mesh, model.default_spatial_methods)\n",
    "disc.process_model(model)\n",
    "\n",
    "# Use a short time-vector for this example\n",
    "t_eval = np.linspace(0, 360, 10)\n",
    "\n",
    "# Include the variable of interest in output_variables\n",
    "output_variables = [\n",
    "    \"Voltage [V]\",\n",
    "    \"Current [A]\",\n",
    "    \"Time [min]\",\n",
    "    \"X-averaged cell temperature [C]\" # want to retrieve this and print the output\n",
    "]\n",
    "\n",
    "# Create the IDAKLU Solver object\n",
    "idaklu_solver = pybamm.IDAKLUSolver(rtol=1e-6, atol=1e-6, output_variables=output_variables)\n",
    "\n",
    "start_time = time.time()\n",
    "\n",
    "# Perform the simulation\n",
    "sim = idaklu_solver.solve(\n",
    "    model,\n",
    "    t_eval,\n",
    "    inputs=inputs,\n",
    "    calculate_sensitivities=True,\n",
    ")\n",
    "\n",
    "end_time = time.time()\n",
    "print(f\"Simulation took {end_time - start_time:.2f} seconds.\")\n",
    "\n",
    "# Variable name to extract\n",
    "var_name = \"X-averaged cell temperature [C]\"\n",
    "\n",
    "# Check if the variable is present in the simulation results\n",
    "if var_name not in sim._variables:\n",
    "    print(f\"Variable '{var_name}' not found in the simulation results.\")\n",
    "else:\n",
    "    # Extract the variable from the simulation result\n",
    "    try:\n",
    "        # Evaluate the variable using the simulation result\n",
    "        temp_data = sim[var_name](t_eval)\n",
    "        print(\"X-averaged cell temperature [C]:\")\n",
    "        print(temp_data)\n",
    "    except Exception as e:\n",
    "        print(f\"An error occurred while evaluating the variable: {e}\")"
   ]
  },
  {
   "cell_type": "code",
   "execution_count": 26,
   "metadata": {},
   "outputs": [
    {
     "name": "stderr",
     "output_type": "stream",
     "text": [
      "2024-09-05 14:06:11.318 - [INFO] base_model._build_model(777): Start building my li-ion model\n"
     ]
    },
    {
     "name": "stderr",
     "output_type": "stream",
     "text": [
      "2024-09-05 14:06:11.393 - [INFO] base_battery_model.build_model(1042): Finish building my li-ion model\n",
      "2024-09-05 14:06:11.474 - [INFO] parameter_values.process_model(440): Start setting parameters for my li-ion model\n",
      "2024-09-05 14:06:11.531 - [INFO] parameter_values.process_model(509): Finish setting parameters for my li-ion model\n",
      "2024-09-05 14:06:11.534 - [INFO] discretisation.process_model(149): Start discretising my li-ion model\n",
      "2024-09-05 14:06:11.681 - [INFO] discretisation.process_model(251): Finish discretising my li-ion model\n",
      "2024-09-05 14:06:11.684 - [INFO] base_solver.solve(744): Start solving my li-ion model with IDA KLU solver\n",
      "2024-09-05 14:06:11.686 - [INFO] base_solver.set_up(117): Start solver set-up\n",
      "2024-09-05 14:06:11.710 - [INFO] base_solver.set_up(286): Finish solver set-up\n",
      "2024-09-05 14:06:11.722 - [INFO] base_solver.solve(974): Finish solving my li-ion model (the solver successfully reached the end of the integration interval)\n",
      "2024-09-05 14:06:11.723 - [INFO] base_solver.solve(975): Set-up time: 31.287 ms, Solve time: 4.874 ms (of which integration time: 4.375 ms), Total time: 36.162 ms\n"
     ]
    },
    {
     "data": {
      "application/vnd.jupyter.widget-view+json": {
       "model_id": "8fa05ced17f54f41a6e23e2e6cbc5aa9",
       "version_major": 2,
       "version_minor": 0
      },
      "text/plain": [
       "interactive(children=(FloatSlider(value=0.0, description='t', max=1.0, step=0.01), Output()), _dom_classes=('w…"
      ]
     },
     "metadata": {},
     "output_type": "display_data"
    },
    {
     "data": {
      "text/plain": [
       "<pybamm.plotting.quick_plot.QuickPlot at 0x7f4d8ee27df0>"
      ]
     },
     "execution_count": 26,
     "metadata": {},
     "output_type": "execute_result"
    }
   ],
   "source": [
    "#\n",
    "# Example showing how to create a custom lithium-ion model from submodels\n",
    "#\n",
    "\n",
    "import pybamm\n",
    "import numpy as np\n",
    "\n",
    "pybamm.set_logging_level(\"INFO\")\n",
    "\n",
    "# load lithium-ion base model\n",
    "model = pybamm.lithium_ion.BaseModel(name=\"my li-ion model\")\n",
    "\n",
    "# set choice of submodels\n",
    "model.submodels[\"external circuit\"] = pybamm.external_circuit.ExplicitCurrentControl(\n",
    "    model.param, model.options\n",
    ")\n",
    "model.submodels[\"current collector\"] = pybamm.current_collector.Uniform(model.param)\n",
    "model.submodels[\"thermal\"] = pybamm.thermal.lumped.Lumped(model.param)\n",
    "model.submodels[\"porosity\"] = pybamm.porosity.Constant(model.param, model.options)\n",
    "model.submodels[\"electrolyte diffusion\"] = (\n",
    "    pybamm.electrolyte_diffusion.ConstantConcentration(model.param)\n",
    ")\n",
    "model.submodels[\"electrolyte conductivity\"] = (\n",
    "    pybamm.electrolyte_conductivity.LeadingOrder(model.param)\n",
    ")\n",
    "\n",
    "# Loop over negative and positive electrode domains for some submodels\n",
    "for domain in [\"negative\", \"positive\"]:\n",
    "    model.submodels[f\"{domain} active material\"] = pybamm.active_material.Constant(\n",
    "        model.param, domain, model.options\n",
    "    )\n",
    "    model.submodels[f\"{domain} electrode potential\"] = (\n",
    "        pybamm.electrode.ohm.LeadingOrder(model.param, domain)\n",
    "    )\n",
    "    model.submodels[f\"{domain} particle\"] = pybamm.particle.XAveragedPolynomialProfile(\n",
    "        model.param,\n",
    "        domain,\n",
    "        options={**model.options, \"particle\": \"uniform profile\"},\n",
    "        phase=\"primary\",\n",
    "    )\n",
    "    model.submodels[f\"{domain} total particle concentration\"] = (\n",
    "        pybamm.particle.TotalConcentration(\n",
    "            model.param, domain, model.options, phase=\"primary\"\n",
    "        )\n",
    "    )\n",
    "\n",
    "    model.submodels[f\"{domain} open-circuit potential\"] = (\n",
    "        pybamm.open_circuit_potential.SingleOpenCircuitPotential(\n",
    "            model.param,\n",
    "            domain,\n",
    "            \"lithium-ion main\",\n",
    "            options=model.options,\n",
    "            phase=\"primary\",\n",
    "        )\n",
    "    )\n",
    "    model.submodels[f\"{domain} interface\"] = pybamm.kinetics.InverseButlerVolmer(\n",
    "        model.param, domain, \"lithium-ion main\", options=model.options\n",
    "    )\n",
    "    model.submodels[f\"{domain} interface utilisation\"] = (\n",
    "        pybamm.interface_utilisation.Full(model.param, domain, model.options)\n",
    "    )\n",
    "    model.submodels[f\"{domain} interface current\"] = (\n",
    "        pybamm.kinetics.CurrentForInverseButlerVolmer(\n",
    "            model.param, domain, \"lithium-ion main\"\n",
    "        )\n",
    "    )\n",
    "    model.submodels[f\"{domain} surface potential difference [V]\"] = (\n",
    "        pybamm.electrolyte_conductivity.surface_potential_form.Explicit(\n",
    "            model.param, domain, model.options\n",
    "        )\n",
    "    )\n",
    "    model.submodels[f\"{domain} particle mechanics\"] = (\n",
    "        pybamm.particle_mechanics.NoMechanics(model.param, domain, model.options)\n",
    "    )\n",
    "    model.submodels[f\"{domain} sei\"] = pybamm.sei.NoSEI(\n",
    "        model.param, domain, model.options\n",
    "    )\n",
    "    model.submodels[f\"{domain} sei on cracks\"] = pybamm.sei.NoSEI(\n",
    "        model.param, domain, model.options, cracks=True\n",
    "    )\n",
    "    model.submodels[f\"{domain} lithium plating\"] = pybamm.lithium_plating.NoPlating(\n",
    "        model.param, domain\n",
    "    )\n",
    "\n",
    "# build model\n",
    "model.build_model()\n",
    "\n",
    "# create geometry\n",
    "geometry = pybamm.battery_geometry()\n",
    "\n",
    "# process model and geometry\n",
    "#LFP BPX\n",
    "param = pybamm.ParameterValues.create_from_bpx(r'/mnt/c/Users/MVeerasi.ANALOG/Documents/InternshipFY24/Battery-Simulator/BatterySimulator/Models/LFP/lfp_18650_cell_BPX.json')\n",
    "#NMC BPX\n",
    "#param = pybamm.ParameterValues.create_from_bpx(r'/mnt/c/Users/MVeerasi.ANALOG/Documents/InternshipFY24/Battery-Simulator/BatterySimulator/Models/NMC/nmc_pouch_cell_BPX.json')\n",
    "param.process_model(model)\n",
    "param.process_geometry(geometry)\n",
    "\n",
    "# set mesh\n",
    "# Note: li-ion base model has defaults for mesh and var_pts\n",
    "mesh = pybamm.Mesh(geometry, model.default_submesh_types, model.default_var_pts)\n",
    "\n",
    "# discretise model\n",
    "# Note: li-ion base model has default spatial methods\n",
    "disc = pybamm.Discretisation(mesh, model.default_spatial_methods)\n",
    "disc.process_model(model)\n",
    "\n",
    "# solve model\n",
    "t_eval = np.linspace(0, 3600, 100)\n",
    "solver = pybamm.IDAKLUSolver()\n",
    "sim = pybamm.Simulation(model, parameter_values=param, solver=solver)\n",
    "solution = solver.solve(model=model, t_eval=t_eval)\n",
    "\n",
    "# plot\n",
    "# plot = pybamm.QuickPlot(solution)\n",
    "# plot.dynamic_plot()\n",
    "output_variables = [\"Voltage [V]\", \"Current [A]\", 'X-averaged cell temperature [C]']\n",
    "solution.plot(output_variables=output_variables)"
   ]
  },
  {
   "cell_type": "code",
   "execution_count": 14,
   "metadata": {},
   "outputs": [
    {
     "name": "stderr",
     "output_type": "stream",
     "text": [
      "2024-09-05 14:20:00.938 - [INFO] base_model._build_model(777): Start building Doyle-Fuller-Newman model\n"
     ]
    },
    {
     "name": "stderr",
     "output_type": "stream",
     "text": [
      "2024-09-05 14:20:01.013 - [INFO] base_battery_model.build_model(1042): Finish building Doyle-Fuller-Newman model\n",
      "2024-09-05 14:20:01.088 - [INFO] callbacks.on_experiment_start(162): Start running experiment\n",
      "2024-09-05 14:20:01.089 - [INFO] parameter_values.process_model(440): Start setting parameters for Doyle-Fuller-Newman model\n",
      "2024-09-05 14:20:01.182 - [INFO] parameter_values.process_model(509): Finish setting parameters for Doyle-Fuller-Newman model\n",
      "2024-09-05 14:20:01.185 - [INFO] discretisation.process_model(149): Start discretising Doyle-Fuller-Newman model\n",
      "2024-09-05 14:20:01.638 - [INFO] discretisation.process_model(251): Finish discretising Doyle-Fuller-Newman model\n",
      "2024-09-05 14:20:01.639 - [NOTICE] callbacks.on_cycle_start(170): Cycle 1/1 (60.400 us elapsed) --------------------\n",
      "2024-09-05 14:20:01.640 - [NOTICE] callbacks.on_step_start(178): Cycle 1/1, step 1/1: Discharge at C/5 for 10 hours or until 2.5 V\n",
      "2024-09-05 14:20:02.151 - [INFO] base_solver.set_up(117): Start solver set-up\n",
      "2024-09-05 14:20:02.538 - [INFO] base_solver.set_up(286): Finish solver set-up\n",
      "2024-09-05 14:20:03.403 - [INFO] parameter_values.process_model(440): Start setting parameters for ElectrodeSOH model\n",
      "2024-09-05 14:20:03.421 - [INFO] parameter_values.process_model(509): Finish setting parameters for ElectrodeSOH model\n",
      "2024-09-05 14:20:03.423 - [INFO] discretisation.process_model(149): Start discretising ElectrodeSOH model\n",
      "2024-09-05 14:20:03.445 - [INFO] discretisation.process_model(251): Finish discretising ElectrodeSOH model\n",
      "2024-09-05 14:20:03.447 - [INFO] base_solver.solve(744): Start solving ElectrodeSOH model with Algebraic solver (lm)\n",
      "2024-09-05 14:20:03.450 - [INFO] base_solver.set_up(117): Start solver set-up\n",
      "2024-09-05 14:20:03.469 - [INFO] base_solver.set_up(286): Finish solver set-up\n",
      "2024-09-05 14:20:03.478 - [INFO] base_solver.solve(974): Finish solving ElectrodeSOH model (the solver successfully reached the end of the integration interval)\n",
      "2024-09-05 14:20:03.479 - [INFO] base_solver.solve(975): Set-up time: 20.295 ms, Solve time: 7.449 ms (of which integration time: 6.960 ms), Total time: 27.744 ms\n",
      "2024-09-05 14:20:03.522 - [NOTICE] callbacks.on_experiment_end(229): Finish experiment simulation, took 1.882 s\n"
     ]
    },
    {
     "data": {
      "application/vnd.jupyter.widget-view+json": {
       "model_id": "648b4ed6f0da461fa352b6caa5d9d1ef",
       "version_major": 2,
       "version_minor": 0
      },
      "text/plain": [
       "interactive(children=(FloatSlider(value=0.0, description='t', max=5.156847598770717, step=0.051568475987707176…"
      ]
     },
     "metadata": {},
     "output_type": "display_data"
    },
    {
     "data": {
      "text/plain": [
       "<pybamm.plotting.quick_plot.QuickPlot at 0x7f29861adc30>"
      ]
     },
     "execution_count": 14,
     "metadata": {},
     "output_type": "execute_result"
    }
   ],
   "source": [
    "import pybamm\n",
    "import os\n",
    "import pandas as pd\n",
    "from pybamm.expression_tree.functions import exp\n",
    "os.chdir(pybamm.__path__[0]+'/..')\n",
    "import numpy as np\n",
    "import timeit\n",
    "from scipy import interpolate\n",
    "\n",
    "pybamm.set_logging_level(\"INFO\")\n",
    "\n",
    "experiment = pybamm.Experiment(\n",
    "    [\n",
    "        (\n",
    "            \"Discharge at C/5 for 10 hours or until 2.5 V\",\n",
    "        )\n",
    "    ]\n",
    ")\n",
    "\n",
    "options = {\"thermal\": \"lumped\"}\n",
    "model = pybamm.lithium_ion.DFN(options=options)\n",
    "parameter_values = pybamm.ParameterValues.create_from_bpx(r'/mnt/c/Users/MVeerasi.ANALOG/Documents/InternshipFY24/Battery-Simulator/BatterySimulator/Models/LFP/lfp_18650_cell_BPX.json')\n",
    "\n",
    "t_eval = np.linspace(0, 3600, 100)\n",
    "\n",
    "solver = pybamm.IDAKLUSolver()\n",
    "sim = pybamm.Simulation(model,parameter_values=parameter_values, solver=solver, experiment=experiment)\n",
    "sim.solve()\n",
    "output_variables = [\"Voltage [V]\", \"Current [A]\", 'X-averaged cell temperature [C]']\n",
    "sim.plot(output_variables=output_variables)"
   ]
  },
  {
   "cell_type": "code",
   "execution_count": null,
   "metadata": {},
   "outputs": [],
   "source": []
  }
 ],
 "metadata": {
  "kernelspec": {
   "display_name": "Python 3",
   "language": "python",
   "name": "python3"
  },
  "language_info": {
   "codemirror_mode": {
    "name": "ipython",
    "version": 3
   },
   "file_extension": ".py",
   "mimetype": "text/x-python",
   "name": "python",
   "nbconvert_exporter": "python",
   "pygments_lexer": "ipython3",
   "version": "3.10.12"
  }
 },
 "nbformat": 4,
 "nbformat_minor": 2
}
