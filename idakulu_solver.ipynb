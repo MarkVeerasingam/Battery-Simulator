{
 "cells": [
  {
   "cell_type": "code",
   "execution_count": 145,
   "metadata": {},
   "outputs": [],
   "source": [
    "import pybamm\n",
    "import time\n",
    "import numpy as npq\n",
    "import jax\n",
    "import jax.numpy as jnp"
   ]
  },
  {
   "cell_type": "code",
   "execution_count": 146,
   "metadata": {},
   "outputs": [
    {
     "name": "stdout",
     "output_type": "stream",
     "text": [
      "Available devices: [cuda(id=0)]\n"
     ]
    }
   ],
   "source": [
    "# 1) pip install \"pybamm[iree,jax]\"  \n",
    "# 2) then install after \"pip install jax[cuda12]\" - this upgrades jax to support CUDA12\n",
    "print(\"Available devices:\", jax.devices())"
   ]
  },
  {
   "cell_type": "code",
   "execution_count": 147,
   "metadata": {},
   "outputs": [],
   "source": [
    "# We will want to differentiate our model, so let's define two input parameters\n",
    "inputs = {\n",
    "    \"Current function [A]\": 0.222,\n",
    "    \"Separator porosity\": 0.3,\n",
    "    \n",
    "}\n",
    "\n",
    "# Set-up the model\n",
    "options = {\"cell geometry\": \"arbitrary\", \"thermal\": \"lumped\"}\n",
    "model = pybamm.lithium_ion.DFN(options=options)\n",
    "geometry = model.default_geometry\n",
    "param = model.default_parameter_values\n",
    "param.update({key: \"[input]\" for key in inputs.keys()})\n",
    "param.process_geometry(geometry)\n",
    "param.process_model(model)\n",
    "var = pybamm.standard_spatial_vars\n",
    "var_pts = {var.x_n: 20, var.x_s: 20, var.x_p: 20, var.r_n: 10, var.r_p: 10}\n",
    "mesh = pybamm.Mesh(geometry, model.default_submesh_types, var_pts)\n",
    "disc = pybamm.Discretisation(mesh, model.default_spatial_methods)\n",
    "disc.process_model(model)\n",
    "\n",
    "# Use a short time-vector for this example, and declare which variables to track\n",
    "t_eval = np.linspace(0, 360, 10)\n",
    "output_variables = [\n",
    "    \"Voltage [V]\",\n",
    "    \"Current [A]\",\n",
    "    \"Time [min]\",\n",
    "]\n",
    "\n",
    "# Create the IDAKLU Solver object\n",
    "idaklu_solver = pybamm.IDAKLUSolver(\n",
    "    rtol=1e-6,\n",
    "    atol=1e-6,\n",
    "    output_variables=output_variables,\n",
    ")"
   ]
  },
  {
   "cell_type": "code",
   "execution_count": 148,
   "metadata": {},
   "outputs": [
    {
     "name": "stdout",
     "output_type": "stream",
     "text": [
      "JAX expression: <function IDAKLUJax._jaxify.<locals>.f at 0x7fb6c350c670>\n"
     ]
    }
   ],
   "source": [
    "# This is how we would normally perform a solve using IDAKLU\n",
    "sim = idaklu_solver.solve(\n",
    "    model,\n",
    "    t_eval,\n",
    "    inputs=inputs,\n",
    "    calculate_sensitivities=True,\n",
    ")\n",
    "\n",
    "# Instead, we Jaxify the IDAKLU solver using similar arguments...\n",
    "jax_solver = idaklu_solver.jaxify(\n",
    "    model,\n",
    "    t_eval,\n",
    ")\n",
    "\n",
    "# ... and then obtain a JAX expression for the solve\n",
    "f = jax_solver.get_jaxpr()\n",
    "print(f\"JAX expression: {f}\")"
   ]
  },
  {
   "cell_type": "code",
   "execution_count": 149,
   "metadata": {},
   "outputs": [
    {
     "name": "stdout",
     "output_type": "stream",
     "text": [
      "JAX expression: <function IDAKLUJax._jaxify.<locals>.f at 0x7fb70dd48790>\n"
     ]
    }
   ],
   "source": [
    "# This is how we would normally perform a solve using IDAKLU\n",
    "sim = idaklu_solver.solve(\n",
    "    model,\n",
    "    t_eval,\n",
    "    inputs=inputs,\n",
    "    calculate_sensitivities=True,\n",
    ")\n",
    "\n",
    "# Instead, we Jaxify the IDAKLU solver using similar arguments...\n",
    "jax_solver = idaklu_solver.jaxify(\n",
    "    model,\n",
    "    t_eval,\n",
    ")\n",
    "\n",
    "# ... and then obtain a JAX expression for the solve\n",
    "f = jax_solver.get_jaxpr()\n",
    "print(f\"JAX expression: {f}\")"
   ]
  },
  {
   "cell_type": "code",
   "execution_count": 150,
   "metadata": {},
   "outputs": [
    {
     "name": "stdout",
     "output_type": "stream",
     "text": [
      "[[3.81933939e+000 2.22000000e-001 1.15631341e-311]\n",
      " [3.81351212e+000 2.22000000e-001 6.66666667e-001]\n",
      " [3.81085763e+000 2.22000000e-001 1.33333333e+000]\n",
      " [3.80891360e+000 2.22000000e-001 2.00000000e+000]\n",
      " [3.80720490e+000 2.22000000e-001 2.66666667e+000]\n",
      " [3.80558327e+000 2.22000000e-001 3.33333333e+000]\n",
      " [3.80399869e+000 2.22000000e-001 4.00000000e+000]\n",
      " [3.80243297e+000 2.22000000e-001 4.66666667e+000]\n",
      " [3.80087903e+000 2.22000000e-001 5.33333333e+000]\n",
      " [3.79933426e+000 2.22000000e-001 6.00000000e+000]]\n"
     ]
    }
   ],
   "source": [
    "# Print all output variables, evaluated over a given time vector\n",
    "data = f(t_eval, inputs)\n",
    "print(data)"
   ]
  },
  {
   "cell_type": "code",
   "execution_count": 151,
   "metadata": {},
   "outputs": [
    {
     "name": "stdout",
     "output_type": "stream",
     "text": [
      "Isolating a single variable returns an array of shape (10,)\n",
      "[3.81933939 3.81351212 3.81085763 3.8089136  3.8072049  3.80558327\n",
      " 3.80399869 3.80243297 3.80087903 3.79933426]\n",
      "\n",
      "Isolating two variables returns an array of shape (10, 2)\n",
      "[[3.81933939 0.222     ]\n",
      " [3.81351212 0.222     ]\n",
      " [3.81085763 0.222     ]\n",
      " [3.8089136  0.222     ]\n",
      " [3.8072049  0.222     ]\n",
      " [3.80558327 0.222     ]\n",
      " [3.80399869 0.222     ]\n",
      " [3.80243297 0.222     ]\n",
      " [3.80087903 0.222     ]\n",
      " [3.79933426 0.222     ]]\n"
     ]
    }
   ],
   "source": [
    "# Isolate a single variables\n",
    "data = jax_solver.get_var(\"Voltage [V]\")(t_eval, inputs)\n",
    "print(f\"Isolating a single variable returns an array of shape {data.shape}\")\n",
    "print(data)\n",
    "\n",
    "# Isolate two variables from the solver\n",
    "data = jax_solver.get_vars(\n",
    "    [\n",
    "        \"Voltage [V]\",\n",
    "        \"Current [A]\",\n",
    "    ],\n",
    ")(t_eval, inputs)\n",
    "print(f\"\\nIsolating two variables returns an array of shape {data.shape}\")\n",
    "print(data)"
   ]
  },
  {
   "cell_type": "code",
   "execution_count": 152,
   "metadata": {},
   "outputs": [
    {
     "name": "stdout",
     "output_type": "stream",
     "text": [
      "Jacobian forward method ran in 0.0794 secs\n",
      "{'Current function [A]': Array([[-0.13629603,  1.        ,  0.        ],\n",
      "       [-0.16363422,  1.        ,  0.        ],\n",
      "       [-0.17585803,  1.        ,  0.        ],\n",
      "       [-0.18462944,  1.        ,  0.        ],\n",
      "       [-0.19225735,  1.        ,  0.        ],\n",
      "       [-0.19945328,  1.        ,  0.        ],\n",
      "       [-0.20644869,  1.        ,  0.        ],\n",
      "       [-0.21332169,  1.        ,  0.        ],\n",
      "       [-0.22009827,  1.        ,  0.        ],\n",
      "       [-0.22678395,  1.        ,  0.        ]], dtype=float64), 'Separator porosity': Array([[0.00579553, 0.        , 0.        ],\n",
      "       [0.00796344, 0.        , 0.        ],\n",
      "       [0.00951735, 0.        , 0.        ],\n",
      "       [0.01023533, 0.        , 0.        ],\n",
      "       [0.01052245, 0.        , 0.        ],\n",
      "       [0.01063035, 0.        , 0.        ],\n",
      "       [0.01067032, 0.        , 0.        ],\n",
      "       [0.01068552, 0.        , 0.        ],\n",
      "       [0.01069203, 0.        , 0.        ],\n",
      "       [0.01069544, 0.        , 0.        ]], dtype=float64)}\n"
     ]
    },
    {
     "name": "stdout",
     "output_type": "stream",
     "text": [
      "\n",
      "Jacobian reverse method ran in 1.31 secs\n",
      "{'Current function [A]': Array([[-0.13629603,  1.        ,  0.        ],\n",
      "       [-0.16363422,  1.        ,  0.        ],\n",
      "       [-0.17585803,  1.        ,  0.        ],\n",
      "       [-0.18462944,  1.        ,  0.        ],\n",
      "       [-0.19225735,  1.        ,  0.        ],\n",
      "       [-0.19945328,  1.        ,  0.        ],\n",
      "       [-0.20644869,  1.        ,  0.        ],\n",
      "       [-0.21332169,  1.        ,  0.        ],\n",
      "       [-0.22009827,  1.        ,  0.        ],\n",
      "       [-0.22678395,  1.        ,  0.        ]],      dtype=float64, weak_type=True), 'Separator porosity': Array([[0.00579553, 0.        , 0.        ],\n",
      "       [0.00796344, 0.        , 0.        ],\n",
      "       [0.00951735, 0.        , 0.        ],\n",
      "       [0.01023533, 0.        , 0.        ],\n",
      "       [0.01052245, 0.        , 0.        ],\n",
      "       [0.01063035, 0.        , 0.        ],\n",
      "       [0.01067032, 0.        , 0.        ],\n",
      "       [0.01068552, 0.        , 0.        ],\n",
      "       [0.01069203, 0.        , 0.        ],\n",
      "       [0.01069544, 0.        , 0.        ]],      dtype=float64, weak_type=True)}\n"
     ]
    }
   ],
   "source": [
    "# Calculate the Jacobian matrix (via forward autodiff)\n",
    "t_start = time.time()\n",
    "out = jax.jacfwd(f, argnums=1)(t_eval, inputs)\n",
    "print(f\"Jacobian forward method ran in {time.time()-t_start:0.3} secs\")\n",
    "print(out)\n",
    "\n",
    "# Calculate Jacobian matrix (via backward autodiff)\n",
    "t_start = time.time()\n",
    "out = jax.jacrev(f, argnums=1)(t_eval, inputs)\n",
    "print(f\"\\nJacobian reverse method ran in {time.time()-t_start:0.3} secs\")\n",
    "print(out)"
   ]
  },
  {
   "cell_type": "code",
   "execution_count": 153,
   "metadata": {},
   "outputs": [
    {
     "name": "stdout",
     "output_type": "stream",
     "text": [
      "[-0.13629603 -0.16363422 -0.17585803 -0.18462944 -0.19225735 -0.19945328\n",
      " -0.20644869 -0.21332169 -0.22009827 -0.22678395]\n"
     ]
    }
   ],
   "source": [
    "# Isolate the derivate of Voltage with respect to the Current function:\n",
    "out = jax.jacfwd(f, argnums=1)(t_eval, inputs)\n",
    "data = jax_solver.get_var(out[\"Current function [A]\"], \"Voltage [V]\")\n",
    "print(data)"
   ]
  },
  {
   "cell_type": "code",
   "execution_count": 154,
   "metadata": {},
   "outputs": [
    {
     "name": "stdout",
     "output_type": "stream",
     "text": [
      "Gradient method ran in 0.431 secs\n",
      "{'Current function [A]': Array([-0.13629603, -0.16363422, -0.17585803, -0.18462944, -0.19225735,\n",
      "       -0.19945328, -0.20644869, -0.21332169, -0.22009827, -0.22678395],      dtype=float64), 'Separator porosity': Array([0.00579553, 0.00796344, 0.00951735, 0.01023533, 0.01052245,\n",
      "       0.01063035, 0.01067032, 0.01068552, 0.01069203, 0.01069544],      dtype=float64)}\n"
     ]
    }
   ],
   "source": [
    "# Example evaluation using the `grad` function\n",
    "t_start = time.time()\n",
    "data = jax.vmap(\n",
    "    jax.grad(\n",
    "        jax_solver.get_var(\"Voltage [V]\"),\n",
    "        argnums=1,  # take derivative with respect to `inputs`\n",
    "    ),\n",
    "    in_axes=(0, None),  # map time over the 0th dimension and do not map inputs\n",
    ")(t_eval, inputs)\n",
    "print(f\"Gradient method ran in {time.time()-t_start:0.3} secs\")\n",
    "print(data)"
   ]
  },
  {
   "cell_type": "markdown",
   "metadata": {},
   "source": [
    "# use case example\n",
    "\n",
    "As a use-case example, consider a fitting procedure where we want to compare simulation data against some experimental data. We achieve this by computing the sum-of-squared error (SEE) between the two. Many fitting procedures will converge more quickly (with fewer iterations) if both the value and gradient of the SSE function are provided. By making use of JAX-expressions we can derive these effortlessly.\n",
    "\n",
    "Note: We do not need to map over time when calling value_and_grad in this example as the sse function returns a scalar (despite taking vector inputs)."
   ]
  },
  {
   "cell_type": "code",
   "execution_count": 155,
   "metadata": {},
   "outputs": [
    {
     "name": "stdout",
     "output_type": "stream",
     "text": [
      "Value and gradient computed in 0.401 secs\n",
      "SSE value:  0.0020770188284553034\n",
      "SSE gradient (wrt each input):  {'Current function [A]': array(-0.05756411), 'Separator porosity': array(0.00146621)}\n"
     ]
    }
   ],
   "source": [
    "# Simulate some experimental data using our original parameter settings\n",
    "data = sim[\"Voltage [V]\"](t_eval)\n",
    "\n",
    "\n",
    "# Sum-of-squared errors\n",
    "def sse(t, inputs):\n",
    "    modelled = jax_solver.get_var(\"Voltage [V]\")(t_eval, inputs)\n",
    "    return jnp.sum((modelled - data) ** 2)\n",
    "\n",
    "\n",
    "# Provide some predicted model inputs (these could come from a fitting procedure)\n",
    "inputs_pred = {\n",
    "    \"Current function [A]\": 0.150,\n",
    "    \"Separator porosity\": 0.333,\n",
    "}\n",
    "\n",
    "# Get the value and gradient of the SSE function\n",
    "t_start = time.time()\n",
    "value, gradient = jax.value_and_grad(sse, argnums=1)(t_eval, inputs_pred)\n",
    "print(f\"Value and gradient computed in {time.time()-t_start:0.3} secs\")\n",
    "print(\"SSE value: \", value)\n",
    "print(\"SSE gradient (wrt each input): \", gradient)"
   ]
  },
  {
   "cell_type": "markdown",
   "metadata": {},
   "source": [
    "# getting a parameter, x-avg cell volt\n",
    "\n",
    "this is more so for my own understanding on how the battery simulator api should work when being called to solve for a simulation. right now i dont think it uses output variables but rather simulates all with casadi then filters based on what the user wants... need to double check this.\n",
    "if so i would need to see if i can call output_variables before using any solver so the results you get from the api call are agnostic to unique solvers"
   ]
  },
  {
   "cell_type": "code",
   "execution_count": 165,
   "metadata": {},
   "outputs": [
    {
     "name": "stdout",
     "output_type": "stream",
     "text": [
      "Simulation is running on: Quadro T2000\n",
      "Simulation took 0.57 seconds.\n",
      "X-averaged cell temperature [C]:\n",
      "[25.         25.01253857 25.01545344 25.01616738 25.01635766 25.01641629\n",
      " 25.01643932 25.01645117 25.01645874 25.01646372]\n"
     ]
    }
   ],
   "source": [
    "import pybamm\n",
    "import numpy as np\n",
    "import jax\n",
    "\n",
    "devices = jax.devices()\n",
    "device_type = devices[0].device_kind\n",
    "print(f\"Simulation is running on: {device_type}\")\n",
    "\n",
    "# Define inputs\n",
    "inputs = {\n",
    "    \"Current function [A]\": 0.222,\n",
    "    \"Separator porosity\": 0.3,\n",
    "}\n",
    "\n",
    "# Set-up the model\n",
    "options = {\"cell geometry\": \"arbitrary\", \"thermal\": \"lumped\"}\n",
    "model = pybamm.lithium_ion.DFN(options=options)\n",
    "geometry = model.default_geometry\n",
    "param = model.default_parameter_values\n",
    "param.update({key: \"[input]\" for key in inputs.keys()})\n",
    "param.process_geometry(geometry)\n",
    "param.process_model(model)\n",
    "var = pybamm.standard_spatial_vars\n",
    "var_pts = {var.x_n: 20, var.x_s: 20, var.x_p: 20, var.r_n: 10, var.r_p: 10}\n",
    "mesh = pybamm.Mesh(geometry, model.default_submesh_types, var_pts)\n",
    "disc = pybamm.Discretisation(mesh, model.default_spatial_methods)\n",
    "disc.process_model(model)\n",
    "\n",
    "# Use a short time-vector for this example\n",
    "t_eval = np.linspace(0, 360, 10)\n",
    "\n",
    "# Include the variable of interest in output_variables\n",
    "output_variables = [\n",
    "    \"Voltage [V]\",\n",
    "    \"Current [A]\",\n",
    "    \"Time [min]\",\n",
    "    \"X-averaged cell temperature [C]\" # want to retrieve this and print the output\n",
    "]\n",
    "\n",
    "# Create the IDAKLU Solver object\n",
    "idaklu_solver = pybamm.IDAKLUSolver(rtol=1e-6, atol=1e-6, output_variables=output_variables)\n",
    "\n",
    "start_time = time.time()\n",
    "\n",
    "# Perform the simulation\n",
    "sim = idaklu_solver.solve(\n",
    "    model,\n",
    "    t_eval,\n",
    "    inputs=inputs,\n",
    "    calculate_sensitivities=True,\n",
    ")\n",
    "\n",
    "end_time = time.time()\n",
    "print(f\"Simulation took {end_time - start_time:.2f} seconds.\")\n",
    "\n",
    "# Variable name to extract\n",
    "var_name = \"X-averaged cell temperature [C]\"\n",
    "\n",
    "# Check if the variable is present in the simulation results\n",
    "if var_name not in sim._variables:\n",
    "    print(f\"Variable '{var_name}' not found in the simulation results.\")\n",
    "else:\n",
    "    # Extract the variable from the simulation result\n",
    "    try:\n",
    "        # Evaluate the variable using the simulation result\n",
    "        temp_data = sim[var_name](t_eval)\n",
    "        print(\"X-averaged cell temperature [C]:\")\n",
    "        print(temp_data)\n",
    "    except Exception as e:\n",
    "        print(f\"An error occurred while evaluating the variable: {e}\")"
   ]
  },
  {
   "cell_type": "code",
   "execution_count": null,
   "metadata": {},
   "outputs": [],
   "source": []
  }
 ],
 "metadata": {
  "kernelspec": {
   "display_name": "Python 3",
   "language": "python",
   "name": "python3"
  },
  "language_info": {
   "codemirror_mode": {
    "name": "ipython",
    "version": 3
   },
   "file_extension": ".py",
   "mimetype": "text/x-python",
   "name": "python",
   "nbconvert_exporter": "python",
   "pygments_lexer": "ipython3",
   "version": "3.10.12"
  }
 },
 "nbformat": 4,
 "nbformat_minor": 2
}
